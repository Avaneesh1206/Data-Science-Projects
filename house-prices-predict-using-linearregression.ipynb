{
 "cells": [
  {
   "cell_type": "code",
   "execution_count": 1,
   "id": "c93feeaa",
   "metadata": {
    "execution": {
     "iopub.execute_input": "2024-03-06T18:22:23.186194Z",
     "iopub.status.busy": "2024-03-06T18:22:23.185762Z",
     "iopub.status.idle": "2024-03-06T18:22:25.626580Z",
     "shell.execute_reply": "2024-03-06T18:22:25.625395Z"
    },
    "papermill": {
     "duration": 2.462235,
     "end_time": "2024-03-06T18:22:25.629451",
     "exception": false,
     "start_time": "2024-03-06T18:22:23.167216",
     "status": "completed"
    },
    "tags": []
   },
   "outputs": [],
   "source": [
    "import numpy as np\n",
    "import pandas as pd\n",
    "import matplotlib.pyplot as plt\n",
    "import seaborn as sns\n",
    "import warnings\n",
    "warnings.filterwarnings('ignore')\n"
   ]
  },
  {
   "cell_type": "code",
   "execution_count": 2,
   "id": "259c0605",
   "metadata": {
    "execution": {
     "iopub.execute_input": "2024-03-06T18:22:25.663955Z",
     "iopub.status.busy": "2024-03-06T18:22:25.663374Z",
     "iopub.status.idle": "2024-03-06T18:22:25.691097Z",
     "shell.execute_reply": "2024-03-06T18:22:25.690209Z"
    },
    "papermill": {
     "duration": 0.048348,
     "end_time": "2024-03-06T18:22:25.693699",
     "exception": false,
     "start_time": "2024-03-06T18:22:25.645351",
     "status": "completed"
    },
    "tags": []
   },
   "outputs": [],
   "source": [
    "df = pd.read_csv('/kaggle/input/housing-prices-dataset/Housing.csv')"
   ]
  },
  {
   "cell_type": "code",
   "execution_count": 3,
   "id": "93502783",
   "metadata": {
    "execution": {
     "iopub.execute_input": "2024-03-06T18:22:25.728810Z",
     "iopub.status.busy": "2024-03-06T18:22:25.727791Z",
     "iopub.status.idle": "2024-03-06T18:22:25.750004Z",
     "shell.execute_reply": "2024-03-06T18:22:25.748906Z"
    },
    "papermill": {
     "duration": 0.042482,
     "end_time": "2024-03-06T18:22:25.752475",
     "exception": false,
     "start_time": "2024-03-06T18:22:25.709993",
     "status": "completed"
    },
    "tags": []
   },
   "outputs": [
    {
     "data": {
      "text/html": [
       "<div>\n",
       "<style scoped>\n",
       "    .dataframe tbody tr th:only-of-type {\n",
       "        vertical-align: middle;\n",
       "    }\n",
       "\n",
       "    .dataframe tbody tr th {\n",
       "        vertical-align: top;\n",
       "    }\n",
       "\n",
       "    .dataframe thead th {\n",
       "        text-align: right;\n",
       "    }\n",
       "</style>\n",
       "<table border=\"1\" class=\"dataframe\">\n",
       "  <thead>\n",
       "    <tr style=\"text-align: right;\">\n",
       "      <th></th>\n",
       "      <th>price</th>\n",
       "      <th>area</th>\n",
       "      <th>bedrooms</th>\n",
       "      <th>bathrooms</th>\n",
       "      <th>stories</th>\n",
       "      <th>mainroad</th>\n",
       "      <th>guestroom</th>\n",
       "      <th>basement</th>\n",
       "      <th>hotwaterheating</th>\n",
       "      <th>airconditioning</th>\n",
       "      <th>parking</th>\n",
       "      <th>prefarea</th>\n",
       "      <th>furnishingstatus</th>\n",
       "    </tr>\n",
       "  </thead>\n",
       "  <tbody>\n",
       "    <tr>\n",
       "      <th>0</th>\n",
       "      <td>13300000</td>\n",
       "      <td>7420</td>\n",
       "      <td>4</td>\n",
       "      <td>2</td>\n",
       "      <td>3</td>\n",
       "      <td>yes</td>\n",
       "      <td>no</td>\n",
       "      <td>no</td>\n",
       "      <td>no</td>\n",
       "      <td>yes</td>\n",
       "      <td>2</td>\n",
       "      <td>yes</td>\n",
       "      <td>furnished</td>\n",
       "    </tr>\n",
       "    <tr>\n",
       "      <th>1</th>\n",
       "      <td>12250000</td>\n",
       "      <td>8960</td>\n",
       "      <td>4</td>\n",
       "      <td>4</td>\n",
       "      <td>4</td>\n",
       "      <td>yes</td>\n",
       "      <td>no</td>\n",
       "      <td>no</td>\n",
       "      <td>no</td>\n",
       "      <td>yes</td>\n",
       "      <td>3</td>\n",
       "      <td>no</td>\n",
       "      <td>furnished</td>\n",
       "    </tr>\n",
       "    <tr>\n",
       "      <th>2</th>\n",
       "      <td>12250000</td>\n",
       "      <td>9960</td>\n",
       "      <td>3</td>\n",
       "      <td>2</td>\n",
       "      <td>2</td>\n",
       "      <td>yes</td>\n",
       "      <td>no</td>\n",
       "      <td>yes</td>\n",
       "      <td>no</td>\n",
       "      <td>no</td>\n",
       "      <td>2</td>\n",
       "      <td>yes</td>\n",
       "      <td>semi-furnished</td>\n",
       "    </tr>\n",
       "  </tbody>\n",
       "</table>\n",
       "</div>"
      ],
      "text/plain": [
       "      price  area  bedrooms  bathrooms  stories mainroad guestroom basement  \\\n",
       "0  13300000  7420         4          2        3      yes        no       no   \n",
       "1  12250000  8960         4          4        4      yes        no       no   \n",
       "2  12250000  9960         3          2        2      yes        no      yes   \n",
       "\n",
       "  hotwaterheating airconditioning  parking prefarea furnishingstatus  \n",
       "0              no             yes        2      yes        furnished  \n",
       "1              no             yes        3       no        furnished  \n",
       "2              no              no        2      yes   semi-furnished  "
      ]
     },
     "execution_count": 3,
     "metadata": {},
     "output_type": "execute_result"
    }
   ],
   "source": [
    "df.head(3)"
   ]
  },
  {
   "cell_type": "code",
   "execution_count": 4,
   "id": "baa6ec67",
   "metadata": {
    "execution": {
     "iopub.execute_input": "2024-03-06T18:22:25.788303Z",
     "iopub.status.busy": "2024-03-06T18:22:25.787925Z",
     "iopub.status.idle": "2024-03-06T18:22:25.794713Z",
     "shell.execute_reply": "2024-03-06T18:22:25.793591Z"
    },
    "papermill": {
     "duration": 0.028186,
     "end_time": "2024-03-06T18:22:25.797142",
     "exception": false,
     "start_time": "2024-03-06T18:22:25.768956",
     "status": "completed"
    },
    "tags": []
   },
   "outputs": [
    {
     "data": {
      "text/plain": [
       "(545, 13)"
      ]
     },
     "execution_count": 4,
     "metadata": {},
     "output_type": "execute_result"
    }
   ],
   "source": [
    "df.shape"
   ]
  },
  {
   "cell_type": "code",
   "execution_count": 5,
   "id": "beeab211",
   "metadata": {
    "execution": {
     "iopub.execute_input": "2024-03-06T18:22:25.831188Z",
     "iopub.status.busy": "2024-03-06T18:22:25.830814Z",
     "iopub.status.idle": "2024-03-06T18:22:25.841953Z",
     "shell.execute_reply": "2024-03-06T18:22:25.840957Z"
    },
    "papermill": {
     "duration": 0.031079,
     "end_time": "2024-03-06T18:22:25.844358",
     "exception": false,
     "start_time": "2024-03-06T18:22:25.813279",
     "status": "completed"
    },
    "tags": []
   },
   "outputs": [
    {
     "data": {
      "text/plain": [
       "price               0\n",
       "area                0\n",
       "bedrooms            0\n",
       "bathrooms           0\n",
       "stories             0\n",
       "mainroad            0\n",
       "guestroom           0\n",
       "basement            0\n",
       "hotwaterheating     0\n",
       "airconditioning     0\n",
       "parking             0\n",
       "prefarea            0\n",
       "furnishingstatus    0\n",
       "dtype: int64"
      ]
     },
     "execution_count": 5,
     "metadata": {},
     "output_type": "execute_result"
    }
   ],
   "source": [
    "df.isnull().sum()"
   ]
  },
  {
   "cell_type": "code",
   "execution_count": 6,
   "id": "f48aeee4",
   "metadata": {
    "execution": {
     "iopub.execute_input": "2024-03-06T18:22:25.878914Z",
     "iopub.status.busy": "2024-03-06T18:22:25.878155Z",
     "iopub.status.idle": "2024-03-06T18:22:25.904138Z",
     "shell.execute_reply": "2024-03-06T18:22:25.902928Z"
    },
    "papermill": {
     "duration": 0.045894,
     "end_time": "2024-03-06T18:22:25.906586",
     "exception": false,
     "start_time": "2024-03-06T18:22:25.860692",
     "status": "completed"
    },
    "tags": []
   },
   "outputs": [
    {
     "name": "stdout",
     "output_type": "stream",
     "text": [
      "<class 'pandas.core.frame.DataFrame'>\n",
      "RangeIndex: 545 entries, 0 to 544\n",
      "Data columns (total 13 columns):\n",
      " #   Column            Non-Null Count  Dtype \n",
      "---  ------            --------------  ----- \n",
      " 0   price             545 non-null    int64 \n",
      " 1   area              545 non-null    int64 \n",
      " 2   bedrooms          545 non-null    int64 \n",
      " 3   bathrooms         545 non-null    int64 \n",
      " 4   stories           545 non-null    int64 \n",
      " 5   mainroad          545 non-null    object\n",
      " 6   guestroom         545 non-null    object\n",
      " 7   basement          545 non-null    object\n",
      " 8   hotwaterheating   545 non-null    object\n",
      " 9   airconditioning   545 non-null    object\n",
      " 10  parking           545 non-null    int64 \n",
      " 11  prefarea          545 non-null    object\n",
      " 12  furnishingstatus  545 non-null    object\n",
      "dtypes: int64(6), object(7)\n",
      "memory usage: 55.5+ KB\n"
     ]
    }
   ],
   "source": [
    "df.info()"
   ]
  },
  {
   "cell_type": "code",
   "execution_count": 7,
   "id": "1da4c522",
   "metadata": {
    "execution": {
     "iopub.execute_input": "2024-03-06T18:22:25.941190Z",
     "iopub.status.busy": "2024-03-06T18:22:25.940802Z",
     "iopub.status.idle": "2024-03-06T18:22:25.947805Z",
     "shell.execute_reply": "2024-03-06T18:22:25.946664Z"
    },
    "papermill": {
     "duration": 0.027363,
     "end_time": "2024-03-06T18:22:25.950355",
     "exception": false,
     "start_time": "2024-03-06T18:22:25.922992",
     "status": "completed"
    },
    "tags": []
   },
   "outputs": [
    {
     "data": {
      "text/plain": [
       "Index(['price', 'area', 'bedrooms', 'bathrooms', 'stories', 'mainroad',\n",
       "       'guestroom', 'basement', 'hotwaterheating', 'airconditioning',\n",
       "       'parking', 'prefarea', 'furnishingstatus'],\n",
       "      dtype='object')"
      ]
     },
     "execution_count": 7,
     "metadata": {},
     "output_type": "execute_result"
    }
   ],
   "source": [
    "df.columns"
   ]
  },
  {
   "cell_type": "code",
   "execution_count": 8,
   "id": "b9bfa983",
   "metadata": {
    "execution": {
     "iopub.execute_input": "2024-03-06T18:22:25.985938Z",
     "iopub.status.busy": "2024-03-06T18:22:25.985550Z",
     "iopub.status.idle": "2024-03-06T18:22:25.993284Z",
     "shell.execute_reply": "2024-03-06T18:22:25.992223Z"
    },
    "papermill": {
     "duration": 0.028273,
     "end_time": "2024-03-06T18:22:25.995782",
     "exception": false,
     "start_time": "2024-03-06T18:22:25.967509",
     "status": "completed"
    },
    "tags": []
   },
   "outputs": [
    {
     "data": {
      "text/plain": [
       "Index(['mainroad', 'guestroom', 'basement', 'hotwaterheating',\n",
       "       'airconditioning', 'prefarea', 'furnishingstatus'],\n",
       "      dtype='object')"
      ]
     },
     "execution_count": 8,
     "metadata": {},
     "output_type": "execute_result"
    }
   ],
   "source": [
    "df.select_dtypes(include='object').columns"
   ]
  },
  {
   "cell_type": "code",
   "execution_count": 9,
   "id": "7bdff955",
   "metadata": {
    "execution": {
     "iopub.execute_input": "2024-03-06T18:22:26.031094Z",
     "iopub.status.busy": "2024-03-06T18:22:26.030696Z",
     "iopub.status.idle": "2024-03-06T18:22:26.036292Z",
     "shell.execute_reply": "2024-03-06T18:22:26.035018Z"
    },
    "papermill": {
     "duration": 0.026092,
     "end_time": "2024-03-06T18:22:26.038711",
     "exception": false,
     "start_time": "2024-03-06T18:22:26.012619",
     "status": "completed"
    },
    "tags": []
   },
   "outputs": [],
   "source": [
    "def binary(x):\n",
    "    return x.map({'yes':1,'no':0})"
   ]
  },
  {
   "cell_type": "code",
   "execution_count": 10,
   "id": "26c9ba52",
   "metadata": {
    "execution": {
     "iopub.execute_input": "2024-03-06T18:22:26.074019Z",
     "iopub.status.busy": "2024-03-06T18:22:26.073628Z",
     "iopub.status.idle": "2024-03-06T18:22:26.078580Z",
     "shell.execute_reply": "2024-03-06T18:22:26.077461Z"
    },
    "papermill": {
     "duration": 0.025138,
     "end_time": "2024-03-06T18:22:26.080853",
     "exception": false,
     "start_time": "2024-03-06T18:22:26.055715",
     "status": "completed"
    },
    "tags": []
   },
   "outputs": [],
   "source": [
    "categorly = ['mainroad', 'guestroom', 'basement', 'hotwaterheating',\n",
    "       'airconditioning', 'prefarea']"
   ]
  },
  {
   "cell_type": "code",
   "execution_count": 11,
   "id": "99cbb204",
   "metadata": {
    "execution": {
     "iopub.execute_input": "2024-03-06T18:22:26.117560Z",
     "iopub.status.busy": "2024-03-06T18:22:26.116742Z",
     "iopub.status.idle": "2024-03-06T18:22:26.131254Z",
     "shell.execute_reply": "2024-03-06T18:22:26.130103Z"
    },
    "papermill": {
     "duration": 0.035645,
     "end_time": "2024-03-06T18:22:26.133754",
     "exception": false,
     "start_time": "2024-03-06T18:22:26.098109",
     "status": "completed"
    },
    "tags": []
   },
   "outputs": [],
   "source": [
    "df[categorly] = df[categorly].apply(binary)"
   ]
  },
  {
   "cell_type": "code",
   "execution_count": 12,
   "id": "9b9553d4",
   "metadata": {
    "execution": {
     "iopub.execute_input": "2024-03-06T18:22:26.171107Z",
     "iopub.status.busy": "2024-03-06T18:22:26.170415Z",
     "iopub.status.idle": "2024-03-06T18:22:26.183753Z",
     "shell.execute_reply": "2024-03-06T18:22:26.182863Z"
    },
    "papermill": {
     "duration": 0.035173,
     "end_time": "2024-03-06T18:22:26.186155",
     "exception": false,
     "start_time": "2024-03-06T18:22:26.150982",
     "status": "completed"
    },
    "tags": []
   },
   "outputs": [
    {
     "data": {
      "text/html": [
       "<div>\n",
       "<style scoped>\n",
       "    .dataframe tbody tr th:only-of-type {\n",
       "        vertical-align: middle;\n",
       "    }\n",
       "\n",
       "    .dataframe tbody tr th {\n",
       "        vertical-align: top;\n",
       "    }\n",
       "\n",
       "    .dataframe thead th {\n",
       "        text-align: right;\n",
       "    }\n",
       "</style>\n",
       "<table border=\"1\" class=\"dataframe\">\n",
       "  <thead>\n",
       "    <tr style=\"text-align: right;\">\n",
       "      <th></th>\n",
       "      <th>price</th>\n",
       "      <th>area</th>\n",
       "      <th>bedrooms</th>\n",
       "      <th>bathrooms</th>\n",
       "      <th>stories</th>\n",
       "      <th>mainroad</th>\n",
       "      <th>guestroom</th>\n",
       "      <th>basement</th>\n",
       "      <th>hotwaterheating</th>\n",
       "      <th>airconditioning</th>\n",
       "      <th>parking</th>\n",
       "      <th>prefarea</th>\n",
       "      <th>furnishingstatus</th>\n",
       "    </tr>\n",
       "  </thead>\n",
       "  <tbody>\n",
       "    <tr>\n",
       "      <th>0</th>\n",
       "      <td>13300000</td>\n",
       "      <td>7420</td>\n",
       "      <td>4</td>\n",
       "      <td>2</td>\n",
       "      <td>3</td>\n",
       "      <td>1</td>\n",
       "      <td>0</td>\n",
       "      <td>0</td>\n",
       "      <td>0</td>\n",
       "      <td>1</td>\n",
       "      <td>2</td>\n",
       "      <td>1</td>\n",
       "      <td>furnished</td>\n",
       "    </tr>\n",
       "    <tr>\n",
       "      <th>1</th>\n",
       "      <td>12250000</td>\n",
       "      <td>8960</td>\n",
       "      <td>4</td>\n",
       "      <td>4</td>\n",
       "      <td>4</td>\n",
       "      <td>1</td>\n",
       "      <td>0</td>\n",
       "      <td>0</td>\n",
       "      <td>0</td>\n",
       "      <td>1</td>\n",
       "      <td>3</td>\n",
       "      <td>0</td>\n",
       "      <td>furnished</td>\n",
       "    </tr>\n",
       "    <tr>\n",
       "      <th>2</th>\n",
       "      <td>12250000</td>\n",
       "      <td>9960</td>\n",
       "      <td>3</td>\n",
       "      <td>2</td>\n",
       "      <td>2</td>\n",
       "      <td>1</td>\n",
       "      <td>0</td>\n",
       "      <td>1</td>\n",
       "      <td>0</td>\n",
       "      <td>0</td>\n",
       "      <td>2</td>\n",
       "      <td>1</td>\n",
       "      <td>semi-furnished</td>\n",
       "    </tr>\n",
       "  </tbody>\n",
       "</table>\n",
       "</div>"
      ],
      "text/plain": [
       "      price  area  bedrooms  bathrooms  stories  mainroad  guestroom  \\\n",
       "0  13300000  7420         4          2        3         1          0   \n",
       "1  12250000  8960         4          4        4         1          0   \n",
       "2  12250000  9960         3          2        2         1          0   \n",
       "\n",
       "   basement  hotwaterheating  airconditioning  parking  prefarea  \\\n",
       "0         0                0                1        2         1   \n",
       "1         0                0                1        3         0   \n",
       "2         1                0                0        2         1   \n",
       "\n",
       "  furnishingstatus  \n",
       "0        furnished  \n",
       "1        furnished  \n",
       "2   semi-furnished  "
      ]
     },
     "execution_count": 12,
     "metadata": {},
     "output_type": "execute_result"
    }
   ],
   "source": [
    "df.head(3)"
   ]
  },
  {
   "cell_type": "code",
   "execution_count": 13,
   "id": "9119ba51",
   "metadata": {
    "execution": {
     "iopub.execute_input": "2024-03-06T18:22:26.223635Z",
     "iopub.status.busy": "2024-03-06T18:22:26.222899Z",
     "iopub.status.idle": "2024-03-06T18:22:26.591180Z",
     "shell.execute_reply": "2024-03-06T18:22:26.589985Z"
    },
    "papermill": {
     "duration": 0.3902,
     "end_time": "2024-03-06T18:22:26.593725",
     "exception": false,
     "start_time": "2024-03-06T18:22:26.203525",
     "status": "completed"
    },
    "tags": []
   },
   "outputs": [
    {
     "data": {
      "text/plain": [
       "<Axes: xlabel='furnishingstatus'>"
      ]
     },
     "execution_count": 13,
     "metadata": {},
     "output_type": "execute_result"
    },
    {
     "data": {
      "image/png": "[encoded data removed]",
      "text/plain": [
       "<Figure size 640x480 with 1 Axes>"
      ]
     },
     "metadata": {},
     "output_type": "display_data"
    }
   ],
   "source": [
    "df['furnishingstatus'].value_counts().plot(kind='bar')"
   ]
  },
  {
   "cell_type": "code",
   "execution_count": 14,
   "id": "ef83b65e",
   "metadata": {
    "execution": {
     "iopub.execute_input": "2024-03-06T18:22:26.631375Z",
     "iopub.status.busy": "2024-03-06T18:22:26.630708Z",
     "iopub.status.idle": "2024-03-06T18:22:56.712443Z",
     "shell.execute_reply": "2024-03-06T18:22:56.711218Z"
    },
    "papermill": {
     "duration": 30.125269,
     "end_time": "2024-03-06T18:22:56.737045",
     "exception": false,
     "start_time": "2024-03-06T18:22:26.611776",
     "status": "completed"
    },
    "tags": []
   },
   "outputs": [
    {
     "name": "stdout",
     "output_type": "stream",
     "text": [
      "Collecting sweetviz\r\n",
      "  Downloading sweetviz-2.3.1-py3-none-any.whl.metadata (24 kB)\r\n",
      "Requirement already satisfied: pandas!=1.0.0,!=1.0.1,!=1.0.2,>=0.25.3 in /opt/conda/lib/python3.10/site-packages (from sweetviz) (2.2.0)\r\n",
      "Requirement already satisfied: numpy>=1.16.0 in /opt/conda/lib/python3.10/site-packages (from sweetviz) (1.26.4)\r\n",
      "Requirement already satisfied: matplotlib>=3.1.3 in /opt/conda/lib/python3.10/site-packages (from sweetviz) (3.7.5)\r\n",
      "Requirement already satisfied: tqdm>=4.43.0 in /opt/conda/lib/python3.10/site-packages (from sweetviz) (4.66.1)\r\n",
      "Requirement already satisfied: scipy>=1.3.2 in /opt/conda/lib/python3.10/site-packages (from sweetviz) (1.11.4)\r\n",
      "Requirement already satisfied: jinja2>=2.11.1 in /opt/conda/lib/python3.10/site-packages (from sweetviz) (3.1.2)\r\n",
      "Requirement already satisfied: importlib-resources>=1.2.0 in /opt/conda/lib/python3.10/site-packages (from sweetviz) (6.1.1)\r\n",
      "Requirement already satisfied: MarkupSafe>=2.0 in /opt/conda/lib/python3.10/site-packages (from jinja2>=2.11.1->sweetviz) (2.1.3)\r\n",
      "Requirement already satisfied: contourpy>=1.0.1 in /opt/conda/lib/python3.10/site-packages (from matplotlib>=3.1.3->sweetviz) (1.2.0)\r\n",
      "Requirement already satisfied: cycler>=0.10 in /opt/conda/lib/python3.10/site-packages (from matplotlib>=3.1.3->sweetviz) (0.12.1)\r\n",
      "Requirement already satisfied: fonttools>=4.22.0 in /opt/conda/lib/python3.10/site-packages (from matplotlib>=3.1.3->sweetviz) (4.47.0)\r\n",
      "Requirement already satisfied: kiwisolver>=1.0.1 in /opt/conda/lib/python3.10/site-packages (from matplotlib>=3.1.3->sweetviz) (1.4.5)\r\n",
      "Requirement already satisfied: packaging>=20.0 in /opt/conda/lib/python3.10/site-packages (from matplotlib>=3.1.3->sweetviz) (21.3)\r\n",
      "Requirement already satisfied: pillow>=6.2.0 in /opt/conda/lib/python3.10/site-packages (from matplotlib>=3.1.3->sweetviz) (9.5.0)\r\n",
      "Requirement already satisfied: pyparsing>=2.3.1 in /opt/conda/lib/python3.10/site-packages (from matplotlib>=3.1.3->sweetviz) (3.1.1)\r\n",
      "Requirement already satisfied: python-dateutil>=2.7 in /opt/conda/lib/python3.10/site-packages (from matplotlib>=3.1.3->sweetviz) (2.8.2)\r\n",
      "Requirement already satisfied: pytz>=2020.1 in /opt/conda/lib/python3.10/site-packages (from pandas!=1.0.0,!=1.0.1,!=1.0.2,>=0.25.3->sweetviz) (2023.3.post1)\r\n",
      "Requirement already satisfied: tzdata>=2022.7 in /opt/conda/lib/python3.10/site-packages (from pandas!=1.0.0,!=1.0.1,!=1.0.2,>=0.25.3->sweetviz) (2023.4)\r\n",
      "Requirement already satisfied: six>=1.5 in /opt/conda/lib/python3.10/site-packages (from python-dateutil>=2.7->matplotlib>=3.1.3->sweetviz) (1.16.0)\r\n",
      "Downloading sweetviz-2.3.1-py3-none-any.whl (15.1 MB)\r\n",
      "\u001b[2K   \u001b[90m━━━━━━━━━━━━━━━━━━━━━━━━━━━━━━━━━━━━━━━━\u001b[0m \u001b[32m15.1/15.1 MB\u001b[0m \u001b[31m62.9 MB/s\u001b[0m eta \u001b[36m0:00:00\u001b[0m\r\n",
      "\u001b[?25hInstalling collected packages: sweetviz\r\n",
      "Successfully installed sweetviz-2.3.1\r\n"
     ]
    },
    {
     "data": {
      "application/vnd.jupyter.widget-view+json": {
       "model_id": "39b88fc18fad4affbffd5ed88d3d3789",
       "version_major": 2,
       "version_minor": 0
      },
      "text/plain": [
       "                                             |          | [  0%]   00:00 -> (? left)"
      ]
     },
     "metadata": {},
     "output_type": "display_data"
    },
    {
     "name": "stdout",
     "output_type": "stream",
     "text": [
      "Report SWEETVIZ_REPORT.html was generated! NOTEBOOK/COLAB USERS: the web browser MAY not pop up, regardless, the report IS saved in your notebook/colab files.\n",
      "Report analysis_with_sweetviz.html was generated! NOTEBOOK/COLAB USERS: the web browser MAY not pop up, regardless, the report IS saved in your notebook/colab files.\n"
     ]
    }
   ],
   "source": [
    "!pip install sweetviz \n",
    "import sweetviz as sv\n",
    "\n",
    "sweet_report = sv.analyze(df, target_feat='price') \n",
    "sweet_report.show_html()\n",
    "sweet_report.show_html('analysis_with_sweetviz.html', scale=0.92)"
   ]
  },
  {
   "cell_type": "code",
   "execution_count": 15,
   "id": "2991e298",
   "metadata": {
    "execution": {
     "iopub.execute_input": "2024-03-06T18:22:56.779796Z",
     "iopub.status.busy": "2024-03-06T18:22:56.778898Z",
     "iopub.status.idle": "2024-03-06T18:22:56.787300Z",
     "shell.execute_reply": "2024-03-06T18:22:56.786267Z"
    },
    "papermill": {
     "duration": 0.032069,
     "end_time": "2024-03-06T18:22:56.789703",
     "exception": false,
     "start_time": "2024-03-06T18:22:56.757634",
     "status": "completed"
    },
    "tags": []
   },
   "outputs": [
    {
     "data": {
      "text/html": [
       "\n",
       "        <iframe\n",
       "            width=\"1000\"\n",
       "            height=\"500\"\n",
       "            src=\"analysis_with_sweetviz.html\"\n",
       "            frameborder=\"0\"\n",
       "            allowfullscreen\n",
       "            \n",
       "        ></iframe>\n",
       "        "
      ],
      "text/plain": [
       "<IPython.lib.display.IFrame at 0x7b28398a1c60>"
      ]
     },
     "execution_count": 15,
     "metadata": {},
     "output_type": "execute_result"
    }
   ],
   "source": [
    "from IPython.display import IFrame\n",
    "\n",
    "report_file = 'analysis_with_sweetviz.html'\n",
    "IFrame(src=report_file, width=1000, height=500)"
   ]
  },
  {
   "cell_type": "code",
   "execution_count": null,
   "id": "f9ce81e2",
   "metadata": {
    "papermill": {
     "duration": 0.018893,
     "end_time": "2024-03-06T18:22:56.827999",
     "exception": false,
     "start_time": "2024-03-06T18:22:56.809106",
     "status": "completed"
    },
    "tags": []
   },
   "outputs": [],
   "source": []
  },
  {
   "cell_type": "code",
   "execution_count": 16,
   "id": "d9d2a785",
   "metadata": {
    "execution": {
     "iopub.execute_input": "2024-03-06T18:22:56.869002Z",
     "iopub.status.busy": "2024-03-06T18:22:56.868020Z",
     "iopub.status.idle": "2024-03-06T18:22:56.887982Z",
     "shell.execute_reply": "2024-03-06T18:22:56.886598Z"
    },
    "papermill": {
     "duration": 0.043932,
     "end_time": "2024-03-06T18:22:56.891266",
     "exception": false,
     "start_time": "2024-03-06T18:22:56.847334",
     "status": "completed"
    },
    "tags": []
   },
   "outputs": [
    {
     "data": {
      "text/html": [
       "<div>\n",
       "<style scoped>\n",
       "    .dataframe tbody tr th:only-of-type {\n",
       "        vertical-align: middle;\n",
       "    }\n",
       "\n",
       "    .dataframe tbody tr th {\n",
       "        vertical-align: top;\n",
       "    }\n",
       "\n",
       "    .dataframe thead th {\n",
       "        text-align: right;\n",
       "    }\n",
       "</style>\n",
       "<table border=\"1\" class=\"dataframe\">\n",
       "  <thead>\n",
       "    <tr style=\"text-align: right;\">\n",
       "      <th></th>\n",
       "      <th>price</th>\n",
       "      <th>area</th>\n",
       "      <th>bedrooms</th>\n",
       "      <th>bathrooms</th>\n",
       "      <th>stories</th>\n",
       "      <th>mainroad</th>\n",
       "      <th>guestroom</th>\n",
       "      <th>basement</th>\n",
       "      <th>hotwaterheating</th>\n",
       "      <th>airconditioning</th>\n",
       "      <th>parking</th>\n",
       "      <th>prefarea</th>\n",
       "      <th>furnishingstatus</th>\n",
       "    </tr>\n",
       "  </thead>\n",
       "  <tbody>\n",
       "    <tr>\n",
       "      <th>0</th>\n",
       "      <td>13300000</td>\n",
       "      <td>7420</td>\n",
       "      <td>4</td>\n",
       "      <td>2</td>\n",
       "      <td>3</td>\n",
       "      <td>1</td>\n",
       "      <td>0</td>\n",
       "      <td>0</td>\n",
       "      <td>0</td>\n",
       "      <td>1</td>\n",
       "      <td>2</td>\n",
       "      <td>1</td>\n",
       "      <td>furnished</td>\n",
       "    </tr>\n",
       "    <tr>\n",
       "      <th>1</th>\n",
       "      <td>12250000</td>\n",
       "      <td>8960</td>\n",
       "      <td>4</td>\n",
       "      <td>4</td>\n",
       "      <td>4</td>\n",
       "      <td>1</td>\n",
       "      <td>0</td>\n",
       "      <td>0</td>\n",
       "      <td>0</td>\n",
       "      <td>1</td>\n",
       "      <td>3</td>\n",
       "      <td>0</td>\n",
       "      <td>furnished</td>\n",
       "    </tr>\n",
       "    <tr>\n",
       "      <th>2</th>\n",
       "      <td>12250000</td>\n",
       "      <td>9960</td>\n",
       "      <td>3</td>\n",
       "      <td>2</td>\n",
       "      <td>2</td>\n",
       "      <td>1</td>\n",
       "      <td>0</td>\n",
       "      <td>1</td>\n",
       "      <td>0</td>\n",
       "      <td>0</td>\n",
       "      <td>2</td>\n",
       "      <td>1</td>\n",
       "      <td>semi-furnished</td>\n",
       "    </tr>\n",
       "  </tbody>\n",
       "</table>\n",
       "</div>"
      ],
      "text/plain": [
       "      price  area  bedrooms  bathrooms  stories  mainroad  guestroom  \\\n",
       "0  13300000  7420         4          2        3         1          0   \n",
       "1  12250000  8960         4          4        4         1          0   \n",
       "2  12250000  9960         3          2        2         1          0   \n",
       "\n",
       "   basement  hotwaterheating  airconditioning  parking  prefarea  \\\n",
       "0         0                0                1        2         1   \n",
       "1         0                0                1        3         0   \n",
       "2         1                0                0        2         1   \n",
       "\n",
       "  furnishingstatus  \n",
       "0        furnished  \n",
       "1        furnished  \n",
       "2   semi-furnished  "
      ]
     },
     "execution_count": 16,
     "metadata": {},
     "output_type": "execute_result"
    }
   ],
   "source": [
    "df.head(3)"
   ]
  },
  {
   "cell_type": "code",
   "execution_count": 17,
   "id": "f24bd8f2",
   "metadata": {
    "execution": {
     "iopub.execute_input": "2024-03-06T18:22:56.946480Z",
     "iopub.status.busy": "2024-03-06T18:22:56.945506Z",
     "iopub.status.idle": "2024-03-06T18:22:58.021016Z",
     "shell.execute_reply": "2024-03-06T18:22:58.019828Z"
    },
    "papermill": {
     "duration": 1.102684,
     "end_time": "2024-03-06T18:22:58.023325",
     "exception": false,
     "start_time": "2024-03-06T18:22:56.920641",
     "status": "completed"
    },
    "tags": []
   },
   "outputs": [
    {
     "data": {
      "text/plain": [
       "<Axes: >"
      ]
     },
     "execution_count": 17,
     "metadata": {},
     "output_type": "execute_result"
    },
    {
     "data": {
      "image/png": "[encoded data removed]",
      "text/plain": [
       "<Figure size 1500x1000 with 6 Axes>"
      ]
     },
     "metadata": {},
     "output_type": "display_data"
    }
   ],
   "source": [
    "sns.set_style('dark')\n",
    "fig,ax = plt.subplots(figsize=(15,10),ncols=3,nrows=2)\n",
    "sns.boxplot(df['price'],ax=ax[0,0],palette='BuPu')\n",
    "sns.boxplot(df['area'],ax=ax[0,1])\n",
    "sns.boxplot(df['stories'],ax=ax[0,2],palette='BuPu')\n",
    "sns.boxplot(df['bedrooms'],ax=ax[1,0])\n",
    "sns.boxplot(df['bathrooms'],ax=ax[1,1],palette='BuPu')\n",
    "sns.boxplot(df['parking'],ax=ax[1,2])"
   ]
  },
  {
   "cell_type": "code",
   "execution_count": 18,
   "id": "1eae04f0",
   "metadata": {
    "execution": {
     "iopub.execute_input": "2024-03-06T18:22:58.066769Z",
     "iopub.status.busy": "2024-03-06T18:22:58.066316Z",
     "iopub.status.idle": "2024-03-06T18:22:59.084315Z",
     "shell.execute_reply": "2024-03-06T18:22:59.083454Z"
    },
    "papermill": {
     "duration": 1.042832,
     "end_time": "2024-03-06T18:22:59.086760",
     "exception": false,
     "start_time": "2024-03-06T18:22:58.043928",
     "status": "completed"
    },
    "tags": []
   },
   "outputs": [
    {
     "data": {
      "text/plain": [
       "<Axes: >"
      ]
     },
     "execution_count": 18,
     "metadata": {},
     "output_type": "execute_result"
    },
    {
     "data": {
      "image/png": "[encoded data removed]",
      "text/plain": [
       "<Figure size 1000x500 with 2 Axes>"
      ]
     },
     "metadata": {},
     "output_type": "display_data"
    }
   ],
   "source": [
    "plt.figure(figsize=(10,5))\n",
    "corr = df.select_dtypes('number')\n",
    "corr = corr.corr()\n",
    "sns.heatmap(corr,cmap='mako',annot=True,linewidths=0.5)"
   ]
  },
  {
   "cell_type": "code",
   "execution_count": 19,
   "id": "4102c451",
   "metadata": {
    "execution": {
     "iopub.execute_input": "2024-03-06T18:22:59.135292Z",
     "iopub.status.busy": "2024-03-06T18:22:59.134503Z",
     "iopub.status.idle": "2024-03-06T18:22:59.141613Z",
     "shell.execute_reply": "2024-03-06T18:22:59.140315Z"
    },
    "papermill": {
     "duration": 0.034076,
     "end_time": "2024-03-06T18:22:59.143917",
     "exception": false,
     "start_time": "2024-03-06T18:22:59.109841",
     "status": "completed"
    },
    "tags": []
   },
   "outputs": [],
   "source": [
    "data = df.drop('furnishingstatus',axis=1)"
   ]
  },
  {
   "cell_type": "markdown",
   "id": "59ef56fe",
   "metadata": {
    "papermill": {
     "duration": 0.023023,
     "end_time": "2024-03-06T18:22:59.189832",
     "exception": false,
     "start_time": "2024-03-06T18:22:59.166809",
     "status": "completed"
    },
    "tags": []
   },
   "source": []
  },
  {
   "cell_type": "code",
   "execution_count": null,
   "id": "2383f8f1",
   "metadata": {
    "papermill": {
     "duration": 0.084366,
     "end_time": "2024-03-06T18:22:59.297647",
     "exception": false,
     "start_time": "2024-03-06T18:22:59.213281",
     "status": "completed"
    },
    "tags": []
   },
   "outputs": [],
   "source": []
  },
  {
   "cell_type": "markdown",
   "id": "2217ae39",
   "metadata": {
    "papermill": {
     "duration": 0.022625,
     "end_time": "2024-03-06T18:22:59.343630",
     "exception": false,
     "start_time": "2024-03-06T18:22:59.321005",
     "status": "completed"
    },
    "tags": []
   },
   "source": [
    "**Predication With out furnishingstatus**"
   ]
  },
  {
   "cell_type": "code",
   "execution_count": null,
   "id": "ea14e2b1",
   "metadata": {
    "papermill": {
     "duration": 0.023762,
     "end_time": "2024-03-06T18:22:59.390228",
     "exception": false,
     "start_time": "2024-03-06T18:22:59.366466",
     "status": "completed"
    },
    "tags": []
   },
   "outputs": [],
   "source": []
  },
  {
   "cell_type": "code",
   "execution_count": 20,
   "id": "1668e4b4",
   "metadata": {
    "execution": {
     "iopub.execute_input": "2024-03-06T18:22:59.439272Z",
     "iopub.status.busy": "2024-03-06T18:22:59.438498Z",
     "iopub.status.idle": "2024-03-06T18:22:59.445009Z",
     "shell.execute_reply": "2024-03-06T18:22:59.444086Z"
    },
    "papermill": {
     "duration": 0.033436,
     "end_time": "2024-03-06T18:22:59.447489",
     "exception": false,
     "start_time": "2024-03-06T18:22:59.414053",
     "status": "completed"
    },
    "tags": []
   },
   "outputs": [],
   "source": [
    "X = data.drop('price',axis=1)\n",
    "y = data['price']"
   ]
  },
  {
   "cell_type": "code",
   "execution_count": 21,
   "id": "054d339f",
   "metadata": {
    "execution": {
     "iopub.execute_input": "2024-03-06T18:22:59.496576Z",
     "iopub.status.busy": "2024-03-06T18:22:59.496141Z",
     "iopub.status.idle": "2024-03-06T18:22:59.790104Z",
     "shell.execute_reply": "2024-03-06T18:22:59.788894Z"
    },
    "papermill": {
     "duration": 0.321971,
     "end_time": "2024-03-06T18:22:59.792986",
     "exception": false,
     "start_time": "2024-03-06T18:22:59.471015",
     "status": "completed"
    },
    "tags": []
   },
   "outputs": [],
   "source": [
    "from sklearn.model_selection import train_test_split\n",
    "X_train, X_test, y_train, y_test = train_test_split(X, y, test_size=0.3,random_state=42)"
   ]
  },
  {
   "cell_type": "code",
   "execution_count": 22,
   "id": "18578094",
   "metadata": {
    "execution": {
     "iopub.execute_input": "2024-03-06T18:22:59.840607Z",
     "iopub.status.busy": "2024-03-06T18:22:59.840153Z",
     "iopub.status.idle": "2024-03-06T18:22:59.942801Z",
     "shell.execute_reply": "2024-03-06T18:22:59.941882Z"
    },
    "papermill": {
     "duration": 0.129689,
     "end_time": "2024-03-06T18:22:59.945509",
     "exception": false,
     "start_time": "2024-03-06T18:22:59.815820",
     "status": "completed"
    },
    "tags": []
   },
   "outputs": [],
   "source": [
    "from sklearn.preprocessing import StandardScaler\n",
    "from sklearn.linear_model import LinearRegression\n",
    "from sklearn.metrics import accuracy_score,r2_score\n",
    "from sklearn.metrics import classification_report"
   ]
  },
  {
   "cell_type": "code",
   "execution_count": 23,
   "id": "d9fe4c09",
   "metadata": {
    "execution": {
     "iopub.execute_input": "2024-03-06T18:22:59.994007Z",
     "iopub.status.busy": "2024-03-06T18:22:59.993199Z",
     "iopub.status.idle": "2024-03-06T18:23:00.005535Z",
     "shell.execute_reply": "2024-03-06T18:23:00.004231Z"
    },
    "papermill": {
     "duration": 0.039663,
     "end_time": "2024-03-06T18:23:00.008259",
     "exception": false,
     "start_time": "2024-03-06T18:22:59.968596",
     "status": "completed"
    },
    "tags": []
   },
   "outputs": [],
   "source": [
    "sc = StandardScaler()\n",
    "sc.fit(X)\n",
    "x = sc.fit_transform(X)"
   ]
  },
  {
   "cell_type": "code",
   "execution_count": 24,
   "id": "c3ca02c1",
   "metadata": {
    "execution": {
     "iopub.execute_input": "2024-03-06T18:23:00.056257Z",
     "iopub.status.busy": "2024-03-06T18:23:00.055454Z",
     "iopub.status.idle": "2024-03-06T18:23:00.063417Z",
     "shell.execute_reply": "2024-03-06T18:23:00.062401Z"
    },
    "papermill": {
     "duration": 0.034293,
     "end_time": "2024-03-06T18:23:00.065604",
     "exception": false,
     "start_time": "2024-03-06T18:23:00.031311",
     "status": "completed"
    },
    "tags": []
   },
   "outputs": [],
   "source": [
    "X_train, X_test, y_train, y_test = train_test_split(x, y, test_size=0.3,random_state=42)"
   ]
  },
  {
   "cell_type": "code",
   "execution_count": 25,
   "id": "06cffa00",
   "metadata": {
    "execution": {
     "iopub.execute_input": "2024-03-06T18:23:00.113359Z",
     "iopub.status.busy": "2024-03-06T18:23:00.112683Z",
     "iopub.status.idle": "2024-03-06T18:23:00.142872Z",
     "shell.execute_reply": "2024-03-06T18:23:00.141471Z"
    },
    "papermill": {
     "duration": 0.057222,
     "end_time": "2024-03-06T18:23:00.145464",
     "exception": false,
     "start_time": "2024-03-06T18:23:00.088242",
     "status": "completed"
    },
    "tags": []
   },
   "outputs": [
    {
     "data": {
      "text/html": [
       "<style>#sk-container-id-1 {color: black;background-color: white;}#sk-container-id-1 pre{padding: 0;}#sk-container-id-1 div.sk-toggleable {background-color: white;}#sk-container-id-1 label.sk-toggleable__label {cursor: pointer;display: block;width: 100%;margin-bottom: 0;padding: 0.3em;box-sizing: border-box;text-align: center;}#sk-container-id-1 label.sk-toggleable__label-arrow:before {content: \"▸\";float: left;margin-right: 0.25em;color: #696969;}#sk-container-id-1 label.sk-toggleable__label-arrow:hover:before {color: black;}#sk-container-id-1 div.sk-estimator:hover label.sk-toggleable__label-arrow:before {color: black;}#sk-container-id-1 div.sk-toggleable__content {max-height: 0;max-width: 0;overflow: hidden;text-align: left;background-color: #f0f8ff;}#sk-container-id-1 div.sk-toggleable__content pre {margin: 0.2em;color: black;border-radius: 0.25em;background-color: #f0f8ff;}#sk-container-id-1 input.sk-toggleable__control:checked~div.sk-toggleable__content {max-height: 200px;max-width: 100%;overflow: auto;}#sk-container-id-1 input.sk-toggleable__control:checked~label.sk-toggleable__label-arrow:before {content: \"▾\";}#sk-container-id-1 div.sk-estimator input.sk-toggleable__control:checked~label.sk-toggleable__label {background-color: #d4ebff;}#sk-container-id-1 div.sk-label input.sk-toggleable__control:checked~label.sk-toggleable__label {background-color: #d4ebff;}#sk-container-id-1 input.sk-hidden--visually {border: 0;clip: rect(1px 1px 1px 1px);clip: rect(1px, 1px, 1px, 1px);height: 1px;margin: -1px;overflow: hidden;padding: 0;position: absolute;width: 1px;}#sk-container-id-1 div.sk-estimator {font-family: monospace;background-color: #f0f8ff;border: 1px dotted black;border-radius: 0.25em;box-sizing: border-box;margin-bottom: 0.5em;}#sk-container-id-1 div.sk-estimator:hover {background-color: #d4ebff;}#sk-container-id-1 div.sk-parallel-item::after {content: \"\";width: 100%;border-bottom: 1px solid gray;flex-grow: 1;}#sk-container-id-1 div.sk-label:hover label.sk-toggleable__label {background-color: #d4ebff;}#sk-container-id-1 div.sk-serial::before {content: \"\";position: absolute;border-left: 1px solid gray;box-sizing: border-box;top: 0;bottom: 0;left: 50%;z-index: 0;}#sk-container-id-1 div.sk-serial {display: flex;flex-direction: column;align-items: center;background-color: white;padding-right: 0.2em;padding-left: 0.2em;position: relative;}#sk-container-id-1 div.sk-item {position: relative;z-index: 1;}#sk-container-id-1 div.sk-parallel {display: flex;align-items: stretch;justify-content: center;background-color: white;position: relative;}#sk-container-id-1 div.sk-item::before, #sk-container-id-1 div.sk-parallel-item::before {content: \"\";position: absolute;border-left: 1px solid gray;box-sizing: border-box;top: 0;bottom: 0;left: 50%;z-index: -1;}#sk-container-id-1 div.sk-parallel-item {display: flex;flex-direction: column;z-index: 1;position: relative;background-color: white;}#sk-container-id-1 div.sk-parallel-item:first-child::after {align-self: flex-end;width: 50%;}#sk-container-id-1 div.sk-parallel-item:last-child::after {align-self: flex-start;width: 50%;}#sk-container-id-1 div.sk-parallel-item:only-child::after {width: 0;}#sk-container-id-1 div.sk-dashed-wrapped {border: 1px dashed gray;margin: 0 0.4em 0.5em 0.4em;box-sizing: border-box;padding-bottom: 0.4em;background-color: white;}#sk-container-id-1 div.sk-label label {font-family: monospace;font-weight: bold;display: inline-block;line-height: 1.2em;}#sk-container-id-1 div.sk-label-container {text-align: center;}#sk-container-id-1 div.sk-container {/* jupyter's `normalize.less` sets `[hidden] { display: none; }` but bootstrap.min.css set `[hidden] { display: none !important; }` so we also need the `!important` here to be able to override the default hidden behavior on the sphinx rendered scikit-learn.org. See: https://github.com/scikit-learn/scikit-learn/issues/21755 */display: inline-block !important;position: relative;}#sk-container-id-1 div.sk-text-repr-fallback {display: none;}</style><div id=\"sk-container-id-1\" class=\"sk-top-container\"><div class=\"sk-text-repr-fallback\"><pre>LinearRegression()</pre><b>In a Jupyter environment, please rerun this cell to show the HTML representation or trust the notebook. <br />On GitHub, the HTML representation is unable to render, please try loading this page with nbviewer.org.</b></div><div class=\"sk-container\" hidden><div class=\"sk-item\"><div class=\"sk-estimator sk-toggleable\"><input class=\"sk-toggleable__control sk-hidden--visually\" id=\"sk-estimator-id-1\" type=\"checkbox\" checked><label for=\"sk-estimator-id-1\" class=\"sk-toggleable__label sk-toggleable__label-arrow\">LinearRegression</label><div class=\"sk-toggleable__content\"><pre>LinearRegression()</pre></div></div></div></div></div>"
      ],
      "text/plain": [
       "LinearRegression()"
      ]
     },
     "execution_count": 25,
     "metadata": {},
     "output_type": "execute_result"
    }
   ],
   "source": [
    "lg = LinearRegression()\n",
    "lg.fit(X_train,y_train)"
   ]
  },
  {
   "cell_type": "code",
   "execution_count": 26,
   "id": "e95fffc0",
   "metadata": {
    "execution": {
     "iopub.execute_input": "2024-03-06T18:23:00.195174Z",
     "iopub.status.busy": "2024-03-06T18:23:00.194551Z",
     "iopub.status.idle": "2024-03-06T18:23:00.199698Z",
     "shell.execute_reply": "2024-03-06T18:23:00.198724Z"
    },
    "papermill": {
     "duration": 0.033296,
     "end_time": "2024-03-06T18:23:00.201984",
     "exception": false,
     "start_time": "2024-03-06T18:23:00.168688",
     "status": "completed"
    },
    "tags": []
   },
   "outputs": [],
   "source": [
    "pred = lg.predict(X_test)"
   ]
  },
  {
   "cell_type": "code",
   "execution_count": 27,
   "id": "4896cd5c",
   "metadata": {
    "execution": {
     "iopub.execute_input": "2024-03-06T18:23:00.250360Z",
     "iopub.status.busy": "2024-03-06T18:23:00.249705Z",
     "iopub.status.idle": "2024-03-06T18:23:00.256207Z",
     "shell.execute_reply": "2024-03-06T18:23:00.255061Z"
    },
    "papermill": {
     "duration": 0.033374,
     "end_time": "2024-03-06T18:23:00.258499",
     "exception": false,
     "start_time": "2024-03-06T18:23:00.225125",
     "status": "completed"
    },
    "tags": []
   },
   "outputs": [
    {
     "name": "stdout",
     "output_type": "stream",
     "text": [
      "0.6363111296737219\n"
     ]
    }
   ],
   "source": [
    "print(r2_score(y_test,pred))"
   ]
  },
  {
   "cell_type": "code",
   "execution_count": 28,
   "id": "ff6b0bc5",
   "metadata": {
    "execution": {
     "iopub.execute_input": "2024-03-06T18:23:00.307124Z",
     "iopub.status.busy": "2024-03-06T18:23:00.306506Z",
     "iopub.status.idle": "2024-03-06T18:23:00.375342Z",
     "shell.execute_reply": "2024-03-06T18:23:00.374232Z"
    },
    "papermill": {
     "duration": 0.096351,
     "end_time": "2024-03-06T18:23:00.378115",
     "exception": false,
     "start_time": "2024-03-06T18:23:00.281764",
     "status": "completed"
    },
    "tags": []
   },
   "outputs": [],
   "source": [
    "from sklearn.neighbors import KNeighborsRegressor\n",
    "knn = KNeighborsRegressor()"
   ]
  },
  {
   "cell_type": "code",
   "execution_count": 29,
   "id": "8a9f8f9f",
   "metadata": {
    "execution": {
     "iopub.execute_input": "2024-03-06T18:23:00.427421Z",
     "iopub.status.busy": "2024-03-06T18:23:00.426991Z",
     "iopub.status.idle": "2024-03-06T18:23:00.436116Z",
     "shell.execute_reply": "2024-03-06T18:23:00.435282Z"
    },
    "papermill": {
     "duration": 0.036013,
     "end_time": "2024-03-06T18:23:00.438199",
     "exception": false,
     "start_time": "2024-03-06T18:23:00.402186",
     "status": "completed"
    },
    "tags": []
   },
   "outputs": [
    {
     "data": {
      "text/html": [
       "<style>#sk-container-id-2 {color: black;background-color: white;}#sk-container-id-2 pre{padding: 0;}#sk-container-id-2 div.sk-toggleable {background-color: white;}#sk-container-id-2 label.sk-toggleable__label {cursor: pointer;display: block;width: 100%;margin-bottom: 0;padding: 0.3em;box-sizing: border-box;text-align: center;}#sk-container-id-2 label.sk-toggleable__label-arrow:before {content: \"▸\";float: left;margin-right: 0.25em;color: #696969;}#sk-container-id-2 label.sk-toggleable__label-arrow:hover:before {color: black;}#sk-container-id-2 div.sk-estimator:hover label.sk-toggleable__label-arrow:before {color: black;}#sk-container-id-2 div.sk-toggleable__content {max-height: 0;max-width: 0;overflow: hidden;text-align: left;background-color: #f0f8ff;}#sk-container-id-2 div.sk-toggleable__content pre {margin: 0.2em;color: black;border-radius: 0.25em;background-color: #f0f8ff;}#sk-container-id-2 input.sk-toggleable__control:checked~div.sk-toggleable__content {max-height: 200px;max-width: 100%;overflow: auto;}#sk-container-id-2 input.sk-toggleable__control:checked~label.sk-toggleable__label-arrow:before {content: \"▾\";}#sk-container-id-2 div.sk-estimator input.sk-toggleable__control:checked~label.sk-toggleable__label {background-color: #d4ebff;}#sk-container-id-2 div.sk-label input.sk-toggleable__control:checked~label.sk-toggleable__label {background-color: #d4ebff;}#sk-container-id-2 input.sk-hidden--visually {border: 0;clip: rect(1px 1px 1px 1px);clip: rect(1px, 1px, 1px, 1px);height: 1px;margin: -1px;overflow: hidden;padding: 0;position: absolute;width: 1px;}#sk-container-id-2 div.sk-estimator {font-family: monospace;background-color: #f0f8ff;border: 1px dotted black;border-radius: 0.25em;box-sizing: border-box;margin-bottom: 0.5em;}#sk-container-id-2 div.sk-estimator:hover {background-color: #d4ebff;}#sk-container-id-2 div.sk-parallel-item::after {content: \"\";width: 100%;border-bottom: 1px solid gray;flex-grow: 1;}#sk-container-id-2 div.sk-label:hover label.sk-toggleable__label {background-color: #d4ebff;}#sk-container-id-2 div.sk-serial::before {content: \"\";position: absolute;border-left: 1px solid gray;box-sizing: border-box;top: 0;bottom: 0;left: 50%;z-index: 0;}#sk-container-id-2 div.sk-serial {display: flex;flex-direction: column;align-items: center;background-color: white;padding-right: 0.2em;padding-left: 0.2em;position: relative;}#sk-container-id-2 div.sk-item {position: relative;z-index: 1;}#sk-container-id-2 div.sk-parallel {display: flex;align-items: stretch;justify-content: center;background-color: white;position: relative;}#sk-container-id-2 div.sk-item::before, #sk-container-id-2 div.sk-parallel-item::before {content: \"\";position: absolute;border-left: 1px solid gray;box-sizing: border-box;top: 0;bottom: 0;left: 50%;z-index: -1;}#sk-container-id-2 div.sk-parallel-item {display: flex;flex-direction: column;z-index: 1;position: relative;background-color: white;}#sk-container-id-2 div.sk-parallel-item:first-child::after {align-self: flex-end;width: 50%;}#sk-container-id-2 div.sk-parallel-item:last-child::after {align-self: flex-start;width: 50%;}#sk-container-id-2 div.sk-parallel-item:only-child::after {width: 0;}#sk-container-id-2 div.sk-dashed-wrapped {border: 1px dashed gray;margin: 0 0.4em 0.5em 0.4em;box-sizing: border-box;padding-bottom: 0.4em;background-color: white;}#sk-container-id-2 div.sk-label label {font-family: monospace;font-weight: bold;display: inline-block;line-height: 1.2em;}#sk-container-id-2 div.sk-label-container {text-align: center;}#sk-container-id-2 div.sk-container {/* jupyter's `normalize.less` sets `[hidden] { display: none; }` but bootstrap.min.css set `[hidden] { display: none !important; }` so we also need the `!important` here to be able to override the default hidden behavior on the sphinx rendered scikit-learn.org. See: https://github.com/scikit-learn/scikit-learn/issues/21755 */display: inline-block !important;position: relative;}#sk-container-id-2 div.sk-text-repr-fallback {display: none;}</style><div id=\"sk-container-id-2\" class=\"sk-top-container\"><div class=\"sk-text-repr-fallback\"><pre>KNeighborsRegressor()</pre><b>In a Jupyter environment, please rerun this cell to show the HTML representation or trust the notebook. <br />On GitHub, the HTML representation is unable to render, please try loading this page with nbviewer.org.</b></div><div class=\"sk-container\" hidden><div class=\"sk-item\"><div class=\"sk-estimator sk-toggleable\"><input class=\"sk-toggleable__control sk-hidden--visually\" id=\"sk-estimator-id-2\" type=\"checkbox\" checked><label for=\"sk-estimator-id-2\" class=\"sk-toggleable__label sk-toggleable__label-arrow\">KNeighborsRegressor</label><div class=\"sk-toggleable__content\"><pre>KNeighborsRegressor()</pre></div></div></div></div></div>"
      ],
      "text/plain": [
       "KNeighborsRegressor()"
      ]
     },
     "execution_count": 29,
     "metadata": {},
     "output_type": "execute_result"
    }
   ],
   "source": [
    "knn.fit(X_train,y_train)"
   ]
  },
  {
   "cell_type": "code",
   "execution_count": 30,
   "id": "785105df",
   "metadata": {
    "execution": {
     "iopub.execute_input": "2024-03-06T18:23:00.487477Z",
     "iopub.status.busy": "2024-03-06T18:23:00.486309Z",
     "iopub.status.idle": "2024-03-06T18:23:00.494347Z",
     "shell.execute_reply": "2024-03-06T18:23:00.493139Z"
    },
    "papermill": {
     "duration": 0.035339,
     "end_time": "2024-03-06T18:23:00.496927",
     "exception": false,
     "start_time": "2024-03-06T18:23:00.461588",
     "status": "completed"
    },
    "tags": []
   },
   "outputs": [],
   "source": [
    "predict = knn.predict(X_test)"
   ]
  },
  {
   "cell_type": "code",
   "execution_count": 31,
   "id": "68ba3e2a",
   "metadata": {
    "execution": {
     "iopub.execute_input": "2024-03-06T18:23:00.545722Z",
     "iopub.status.busy": "2024-03-06T18:23:00.545278Z",
     "iopub.status.idle": "2024-03-06T18:23:00.551890Z",
     "shell.execute_reply": "2024-03-06T18:23:00.550715Z"
    },
    "papermill": {
     "duration": 0.033707,
     "end_time": "2024-03-06T18:23:00.554149",
     "exception": false,
     "start_time": "2024-03-06T18:23:00.520442",
     "status": "completed"
    },
    "tags": []
   },
   "outputs": [
    {
     "name": "stdout",
     "output_type": "stream",
     "text": [
      "0.5653905835665913\n"
     ]
    }
   ],
   "source": [
    "print(r2_score(y_test,predict))"
   ]
  },
  {
   "cell_type": "code",
   "execution_count": 32,
   "id": "e0ce50ae",
   "metadata": {
    "execution": {
     "iopub.execute_input": "2024-03-06T18:23:00.602753Z",
     "iopub.status.busy": "2024-03-06T18:23:00.602295Z",
     "iopub.status.idle": "2024-03-06T18:23:01.153814Z",
     "shell.execute_reply": "2024-03-06T18:23:01.152583Z"
    },
    "papermill": {
     "duration": 0.578905,
     "end_time": "2024-03-06T18:23:01.156356",
     "exception": false,
     "start_time": "2024-03-06T18:23:00.577451",
     "status": "completed"
    },
    "tags": []
   },
   "outputs": [
    {
     "data": {
      "image/png": "[encoded data removed]",
      "text/plain": [
       "<Figure size 1500x500 with 1 Axes>"
      ]
     },
     "metadata": {},
     "output_type": "display_data"
    }
   ],
   "source": [
    "plt.figure(figsize=(15,5))\n",
    "sns.distplot(df['bedrooms'],hist=False,color='blue', label='Bedrooms')\n",
    "sns.distplot(df['bathrooms'],hist=False,color='green', label='Bathrooms')\n",
    "sns.distplot(df['stories'],hist=False,color='red', label='stories')\n",
    "plt.xlabel('Bedrooms Bathrooms stories')\n",
    "plt.show()"
   ]
  },
  {
   "cell_type": "code",
   "execution_count": null,
   "id": "431071c5",
   "metadata": {
    "papermill": {
     "duration": 0.025977,
     "end_time": "2024-03-06T18:23:01.208596",
     "exception": false,
     "start_time": "2024-03-06T18:23:01.182619",
     "status": "completed"
    },
    "tags": []
   },
   "outputs": [],
   "source": []
  },
  {
   "cell_type": "markdown",
   "id": "2ce16397",
   "metadata": {
    "papermill": {
     "duration": 0.02474,
     "end_time": "2024-03-06T18:23:01.258544",
     "exception": false,
     "start_time": "2024-03-06T18:23:01.233804",
     "status": "completed"
    },
    "tags": []
   },
   "source": [
    "**Predication Using functure**"
   ]
  },
  {
   "cell_type": "code",
   "execution_count": 33,
   "id": "97581a50",
   "metadata": {
    "execution": {
     "iopub.execute_input": "2024-03-06T18:23:01.311184Z",
     "iopub.status.busy": "2024-03-06T18:23:01.310766Z",
     "iopub.status.idle": "2024-03-06T18:23:01.325025Z",
     "shell.execute_reply": "2024-03-06T18:23:01.323842Z"
    },
    "papermill": {
     "duration": 0.043076,
     "end_time": "2024-03-06T18:23:01.327712",
     "exception": false,
     "start_time": "2024-03-06T18:23:01.284636",
     "status": "completed"
    },
    "tags": []
   },
   "outputs": [
    {
     "data": {
      "text/html": [
       "<div>\n",
       "<style scoped>\n",
       "    .dataframe tbody tr th:only-of-type {\n",
       "        vertical-align: middle;\n",
       "    }\n",
       "\n",
       "    .dataframe tbody tr th {\n",
       "        vertical-align: top;\n",
       "    }\n",
       "\n",
       "    .dataframe thead th {\n",
       "        text-align: right;\n",
       "    }\n",
       "</style>\n",
       "<table border=\"1\" class=\"dataframe\">\n",
       "  <thead>\n",
       "    <tr style=\"text-align: right;\">\n",
       "      <th></th>\n",
       "      <th>furnished</th>\n",
       "      <th>semi-furnished</th>\n",
       "      <th>unfurnished</th>\n",
       "    </tr>\n",
       "  </thead>\n",
       "  <tbody>\n",
       "    <tr>\n",
       "      <th>0</th>\n",
       "      <td>True</td>\n",
       "      <td>False</td>\n",
       "      <td>False</td>\n",
       "    </tr>\n",
       "    <tr>\n",
       "      <th>1</th>\n",
       "      <td>True</td>\n",
       "      <td>False</td>\n",
       "      <td>False</td>\n",
       "    </tr>\n",
       "    <tr>\n",
       "      <th>2</th>\n",
       "      <td>False</td>\n",
       "      <td>True</td>\n",
       "      <td>False</td>\n",
       "    </tr>\n",
       "    <tr>\n",
       "      <th>3</th>\n",
       "      <td>True</td>\n",
       "      <td>False</td>\n",
       "      <td>False</td>\n",
       "    </tr>\n",
       "    <tr>\n",
       "      <th>4</th>\n",
       "      <td>True</td>\n",
       "      <td>False</td>\n",
       "      <td>False</td>\n",
       "    </tr>\n",
       "  </tbody>\n",
       "</table>\n",
       "</div>"
      ],
      "text/plain": [
       "   furnished  semi-furnished  unfurnished\n",
       "0       True           False        False\n",
       "1       True           False        False\n",
       "2      False            True        False\n",
       "3       True           False        False\n",
       "4       True           False        False"
      ]
     },
     "execution_count": 33,
     "metadata": {},
     "output_type": "execute_result"
    }
   ],
   "source": [
    "df['furnishingstatus'].value_counts()\n",
    "house = pd.get_dummies(df['furnishingstatus'])\n",
    "house.head()\n"
   ]
  },
  {
   "cell_type": "code",
   "execution_count": 34,
   "id": "8562d81a",
   "metadata": {
    "execution": {
     "iopub.execute_input": "2024-03-06T18:23:01.381140Z",
     "iopub.status.busy": "2024-03-06T18:23:01.380687Z",
     "iopub.status.idle": "2024-03-06T18:23:01.387612Z",
     "shell.execute_reply": "2024-03-06T18:23:01.386396Z"
    },
    "papermill": {
     "duration": 0.035871,
     "end_time": "2024-03-06T18:23:01.390461",
     "exception": false,
     "start_time": "2024-03-06T18:23:01.354590",
     "status": "completed"
    },
    "tags": []
   },
   "outputs": [],
   "source": [
    "df['semi-furnished'] = house['semi-furnished']\n",
    "df['furnished'] = house['furnished']\n",
    "df['unfurnished'] = house['unfurnished']"
   ]
  },
  {
   "cell_type": "code",
   "execution_count": 35,
   "id": "64220dbb",
   "metadata": {
    "execution": {
     "iopub.execute_input": "2024-03-06T18:23:01.443329Z",
     "iopub.status.busy": "2024-03-06T18:23:01.442922Z",
     "iopub.status.idle": "2024-03-06T18:23:01.449032Z",
     "shell.execute_reply": "2024-03-06T18:23:01.447851Z"
    },
    "papermill": {
     "duration": 0.035293,
     "end_time": "2024-03-06T18:23:01.451286",
     "exception": false,
     "start_time": "2024-03-06T18:23:01.415993",
     "status": "completed"
    },
    "tags": []
   },
   "outputs": [],
   "source": [
    "df = df.drop('furnishingstatus',axis=1)"
   ]
  },
  {
   "cell_type": "code",
   "execution_count": 36,
   "id": "dfcc7aff",
   "metadata": {
    "execution": {
     "iopub.execute_input": "2024-03-06T18:23:01.503409Z",
     "iopub.status.busy": "2024-03-06T18:23:01.502987Z",
     "iopub.status.idle": "2024-03-06T18:23:01.508431Z",
     "shell.execute_reply": "2024-03-06T18:23:01.507263Z"
    },
    "papermill": {
     "duration": 0.034535,
     "end_time": "2024-03-06T18:23:01.510854",
     "exception": false,
     "start_time": "2024-03-06T18:23:01.476319",
     "status": "completed"
    },
    "tags": []
   },
   "outputs": [],
   "source": [
    "def con(x):\n",
    "    if x=='True':\n",
    "        x=1\n",
    "    else:\n",
    "        x=0\n",
    "    return x"
   ]
  },
  {
   "cell_type": "code",
   "execution_count": 37,
   "id": "66f2ae23",
   "metadata": {
    "execution": {
     "iopub.execute_input": "2024-03-06T18:23:01.562909Z",
     "iopub.status.busy": "2024-03-06T18:23:01.562468Z",
     "iopub.status.idle": "2024-03-06T18:23:01.571705Z",
     "shell.execute_reply": "2024-03-06T18:23:01.570501Z"
    },
    "papermill": {
     "duration": 0.038018,
     "end_time": "2024-03-06T18:23:01.574077",
     "exception": false,
     "start_time": "2024-03-06T18:23:01.536059",
     "status": "completed"
    },
    "tags": []
   },
   "outputs": [],
   "source": [
    "df['semi-furnished'] = df['semi-furnished'].apply(con)\n",
    "df['furnished'] = df['furnished'].apply(con)\n",
    "df['unfurnished'] =  df['unfurnished'].apply(con)"
   ]
  },
  {
   "cell_type": "code",
   "execution_count": 38,
   "id": "b388fcfc",
   "metadata": {
    "execution": {
     "iopub.execute_input": "2024-03-06T18:23:01.626239Z",
     "iopub.status.busy": "2024-03-06T18:23:01.625833Z",
     "iopub.status.idle": "2024-03-06T18:23:01.641783Z",
     "shell.execute_reply": "2024-03-06T18:23:01.640637Z"
    },
    "papermill": {
     "duration": 0.044724,
     "end_time": "2024-03-06T18:23:01.644042",
     "exception": false,
     "start_time": "2024-03-06T18:23:01.599318",
     "status": "completed"
    },
    "tags": []
   },
   "outputs": [
    {
     "data": {
      "text/html": [
       "<div>\n",
       "<style scoped>\n",
       "    .dataframe tbody tr th:only-of-type {\n",
       "        vertical-align: middle;\n",
       "    }\n",
       "\n",
       "    .dataframe tbody tr th {\n",
       "        vertical-align: top;\n",
       "    }\n",
       "\n",
       "    .dataframe thead th {\n",
       "        text-align: right;\n",
       "    }\n",
       "</style>\n",
       "<table border=\"1\" class=\"dataframe\">\n",
       "  <thead>\n",
       "    <tr style=\"text-align: right;\">\n",
       "      <th></th>\n",
       "      <th>price</th>\n",
       "      <th>area</th>\n",
       "      <th>bedrooms</th>\n",
       "      <th>bathrooms</th>\n",
       "      <th>stories</th>\n",
       "      <th>mainroad</th>\n",
       "      <th>guestroom</th>\n",
       "      <th>basement</th>\n",
       "      <th>hotwaterheating</th>\n",
       "      <th>airconditioning</th>\n",
       "      <th>parking</th>\n",
       "      <th>prefarea</th>\n",
       "      <th>semi-furnished</th>\n",
       "      <th>furnished</th>\n",
       "      <th>unfurnished</th>\n",
       "    </tr>\n",
       "  </thead>\n",
       "  <tbody>\n",
       "    <tr>\n",
       "      <th>0</th>\n",
       "      <td>13300000</td>\n",
       "      <td>7420</td>\n",
       "      <td>4</td>\n",
       "      <td>2</td>\n",
       "      <td>3</td>\n",
       "      <td>1</td>\n",
       "      <td>0</td>\n",
       "      <td>0</td>\n",
       "      <td>0</td>\n",
       "      <td>1</td>\n",
       "      <td>2</td>\n",
       "      <td>1</td>\n",
       "      <td>0</td>\n",
       "      <td>0</td>\n",
       "      <td>0</td>\n",
       "    </tr>\n",
       "    <tr>\n",
       "      <th>1</th>\n",
       "      <td>12250000</td>\n",
       "      <td>8960</td>\n",
       "      <td>4</td>\n",
       "      <td>4</td>\n",
       "      <td>4</td>\n",
       "      <td>1</td>\n",
       "      <td>0</td>\n",
       "      <td>0</td>\n",
       "      <td>0</td>\n",
       "      <td>1</td>\n",
       "      <td>3</td>\n",
       "      <td>0</td>\n",
       "      <td>0</td>\n",
       "      <td>0</td>\n",
       "      <td>0</td>\n",
       "    </tr>\n",
       "    <tr>\n",
       "      <th>2</th>\n",
       "      <td>12250000</td>\n",
       "      <td>9960</td>\n",
       "      <td>3</td>\n",
       "      <td>2</td>\n",
       "      <td>2</td>\n",
       "      <td>1</td>\n",
       "      <td>0</td>\n",
       "      <td>1</td>\n",
       "      <td>0</td>\n",
       "      <td>0</td>\n",
       "      <td>2</td>\n",
       "      <td>1</td>\n",
       "      <td>0</td>\n",
       "      <td>0</td>\n",
       "      <td>0</td>\n",
       "    </tr>\n",
       "  </tbody>\n",
       "</table>\n",
       "</div>"
      ],
      "text/plain": [
       "      price  area  bedrooms  bathrooms  stories  mainroad  guestroom  \\\n",
       "0  13300000  7420         4          2        3         1          0   \n",
       "1  12250000  8960         4          4        4         1          0   \n",
       "2  12250000  9960         3          2        2         1          0   \n",
       "\n",
       "   basement  hotwaterheating  airconditioning  parking  prefarea  \\\n",
       "0         0                0                1        2         1   \n",
       "1         0                0                1        3         0   \n",
       "2         1                0                0        2         1   \n",
       "\n",
       "   semi-furnished  furnished  unfurnished  \n",
       "0               0          0            0  \n",
       "1               0          0            0  \n",
       "2               0          0            0  "
      ]
     },
     "execution_count": 38,
     "metadata": {},
     "output_type": "execute_result"
    }
   ],
   "source": [
    "df.head(3)"
   ]
  },
  {
   "cell_type": "code",
   "execution_count": 39,
   "id": "003daee5",
   "metadata": {
    "execution": {
     "iopub.execute_input": "2024-03-06T18:23:01.697283Z",
     "iopub.status.busy": "2024-03-06T18:23:01.696837Z",
     "iopub.status.idle": "2024-03-06T18:23:01.703007Z",
     "shell.execute_reply": "2024-03-06T18:23:01.701766Z"
    },
    "papermill": {
     "duration": 0.036134,
     "end_time": "2024-03-06T18:23:01.705504",
     "exception": false,
     "start_time": "2024-03-06T18:23:01.669370",
     "status": "completed"
    },
    "tags": []
   },
   "outputs": [],
   "source": [
    "data = df[['price','stories','parking','basement']]"
   ]
  },
  {
   "cell_type": "code",
   "execution_count": 40,
   "id": "f96dc53e",
   "metadata": {
    "execution": {
     "iopub.execute_input": "2024-03-06T18:23:01.760827Z",
     "iopub.status.busy": "2024-03-06T18:23:01.760370Z",
     "iopub.status.idle": "2024-03-06T18:23:08.647426Z",
     "shell.execute_reply": "2024-03-06T18:23:08.646177Z"
    },
    "papermill": {
     "duration": 6.917759,
     "end_time": "2024-03-06T18:23:08.650550",
     "exception": false,
     "start_time": "2024-03-06T18:23:01.732791",
     "status": "completed"
    },
    "tags": []
   },
   "outputs": [
    {
     "data": {
      "text/plain": [
       "<seaborn.axisgrid.PairGrid at 0x7b2842f79030>"
      ]
     },
     "execution_count": 40,
     "metadata": {},
     "output_type": "execute_result"
    },
    {
     "data": {
      "image/png": "[encoded data removed]",
      "text/plain": [
       "<Figure size 1000x1000 with 20 Axes>"
      ]
     },
     "metadata": {},
     "output_type": "display_data"
    }
   ],
   "source": [
    "sns.pairplot(data)"
   ]
  },
  {
   "cell_type": "code",
   "execution_count": 41,
   "id": "615018e0",
   "metadata": {
    "execution": {
     "iopub.execute_input": "2024-03-06T18:23:08.704850Z",
     "iopub.status.busy": "2024-03-06T18:23:08.704430Z",
     "iopub.status.idle": "2024-03-06T18:23:08.711240Z",
     "shell.execute_reply": "2024-03-06T18:23:08.709992Z"
    },
    "papermill": {
     "duration": 0.036953,
     "end_time": "2024-03-06T18:23:08.713721",
     "exception": false,
     "start_time": "2024-03-06T18:23:08.676768",
     "status": "completed"
    },
    "tags": []
   },
   "outputs": [],
   "source": [
    "x = df.drop(['price'],axis=1)\n",
    "y=df['price']"
   ]
  },
  {
   "cell_type": "code",
   "execution_count": null,
   "id": "1c4b0d25",
   "metadata": {
    "papermill": {
     "duration": 0.026221,
     "end_time": "2024-03-06T18:23:08.766394",
     "exception": false,
     "start_time": "2024-03-06T18:23:08.740173",
     "status": "completed"
    },
    "tags": []
   },
   "outputs": [],
   "source": []
  },
  {
   "cell_type": "code",
   "execution_count": 42,
   "id": "4ee6a00c",
   "metadata": {
    "execution": {
     "iopub.execute_input": "2024-03-06T18:23:08.821408Z",
     "iopub.status.busy": "2024-03-06T18:23:08.820125Z",
     "iopub.status.idle": "2024-03-06T18:23:08.832930Z",
     "shell.execute_reply": "2024-03-06T18:23:08.832060Z"
    },
    "papermill": {
     "duration": 0.042868,
     "end_time": "2024-03-06T18:23:08.835409",
     "exception": false,
     "start_time": "2024-03-06T18:23:08.792541",
     "status": "completed"
    },
    "tags": []
   },
   "outputs": [],
   "source": [
    "sc = StandardScaler()\n",
    "sc.fit(x)\n",
    "x = sc.fit_transform(x)"
   ]
  },
  {
   "cell_type": "code",
   "execution_count": 43,
   "id": "6cba8b8c",
   "metadata": {
    "execution": {
     "iopub.execute_input": "2024-03-06T18:23:08.890438Z",
     "iopub.status.busy": "2024-03-06T18:23:08.889296Z",
     "iopub.status.idle": "2024-03-06T18:23:08.896785Z",
     "shell.execute_reply": "2024-03-06T18:23:08.895708Z"
    },
    "papermill": {
     "duration": 0.03746,
     "end_time": "2024-03-06T18:23:08.899079",
     "exception": false,
     "start_time": "2024-03-06T18:23:08.861619",
     "status": "completed"
    },
    "tags": []
   },
   "outputs": [],
   "source": [
    "X_train, X_test, y_train, y_test = train_test_split(x, y, test_size=0.3,random_state=42)"
   ]
  },
  {
   "cell_type": "code",
   "execution_count": 44,
   "id": "9f639e43",
   "metadata": {
    "execution": {
     "iopub.execute_input": "2024-03-06T18:23:08.953595Z",
     "iopub.status.busy": "2024-03-06T18:23:08.952936Z",
     "iopub.status.idle": "2024-03-06T18:23:08.959670Z",
     "shell.execute_reply": "2024-03-06T18:23:08.958804Z"
    },
    "papermill": {
     "duration": 0.036956,
     "end_time": "2024-03-06T18:23:08.962231",
     "exception": false,
     "start_time": "2024-03-06T18:23:08.925275",
     "status": "completed"
    },
    "tags": []
   },
   "outputs": [],
   "source": [
    "lg.fit(X_train,y_train)\n",
    "pred = lg.predict(X_test)"
   ]
  },
  {
   "cell_type": "code",
   "execution_count": 45,
   "id": "b696193a",
   "metadata": {
    "execution": {
     "iopub.execute_input": "2024-03-06T18:23:09.018607Z",
     "iopub.status.busy": "2024-03-06T18:23:09.017936Z",
     "iopub.status.idle": "2024-03-06T18:23:09.023779Z",
     "shell.execute_reply": "2024-03-06T18:23:09.022579Z"
    },
    "papermill": {
     "duration": 0.036318,
     "end_time": "2024-03-06T18:23:09.026218",
     "exception": false,
     "start_time": "2024-03-06T18:23:08.989900",
     "status": "completed"
    },
    "tags": []
   },
   "outputs": [
    {
     "name": "stdout",
     "output_type": "stream",
     "text": [
      "0.6363111296737218\n"
     ]
    }
   ],
   "source": [
    "print(r2_score(y_test,pred))"
   ]
  },
  {
   "cell_type": "code",
   "execution_count": null,
   "id": "b08c33bc",
   "metadata": {
    "papermill": {
     "duration": 0.025876,
     "end_time": "2024-03-06T18:23:09.078848",
     "exception": false,
     "start_time": "2024-03-06T18:23:09.052972",
     "status": "completed"
    },
    "tags": []
   },
   "outputs": [],
   "source": []
  }
 ],
 "metadata": {
  "kaggle": {
   "accelerator": "none",
   "dataSources": [
    {
     "datasetId": 1859421,
     "sourceId": 3036086,
     "sourceType": "datasetVersion"
    }
   ],
   "dockerImageVersionId": 30664,
   "isGpuEnabled": false,
   "isInternetEnabled": true,
   "language": "python",
   "sourceType": "notebook"
  },
  "kernelspec": {
   "display_name": "Python 3",
   "language": "python",
   "name": "python3"
  },
  "language_info": {
   "codemirror_mode": {
    "name": "ipython",
    "version": 3
   },
   "file_extension": ".py",
   "mimetype": "text/x-python",
   "name": "python",
   "nbconvert_exporter": "python",
   "pygments_lexer": "ipython3",
   "version": "3.10.13"
  },
  "papermill": {
   "default_parameters": {},
   "duration": 50.341463,
   "end_time": "2024-03-06T18:23:10.028038",
   "environment_variables": {},
   "exception": null,
   "input_path": "__notebook__.ipynb",
   "output_path": "__notebook__.ipynb",
   "parameters": {},
   "start_time": "2024-03-06T18:22:19.686575",
   "version": "2.5.0"
  },
  "widgets": {
   "application/vnd.jupyter.widget-state+json": {
    "state": {
     "092ccdc852d140c595f4cc1f0422c32c": {
      "model_module": "@jupyter-widgets/base",
      "model_module_version": "1.2.0",
      "model_name": "LayoutModel",
      "state": {
       "_model_module": "@jupyter-widgets/base",
       "_model_module_version": "1.2.0",
       "_model_name": "LayoutModel",
       "_view_count": null,
       "_view_module": "@jupyter-widgets/base",
       "_view_module_version": "1.2.0",
       "_view_name": "LayoutView",
       "align_content": null,
       "align_items": null,
       "align_self": null,
       "border": null,
       "bottom": null,
       "display": null,
       "flex": "2",
       "flex_flow": null,
       "grid_area": null,
       "grid_auto_columns": null,
       "grid_auto_flow": null,
       "grid_auto_rows": null,
       "grid_column": null,
       "grid_gap": null,
       "grid_row": null,
       "grid_template_areas": null,
       "grid_template_columns": null,
       "grid_template_rows": null,
       "height": null,
       "justify_content": null,
       "justify_items": null,
       "left": null,
       "margin": null,
       "max_height": null,
       "max_width": null,
       "min_height": null,
       "min_width": null,
       "object_fit": null,
       "object_position": null,
       "order": null,
       "overflow": null,
       "overflow_x": null,
       "overflow_y": null,
       "padding": null,
       "right": null,
       "top": null,
       "visibility": null,
       "width": null
      }
     },
     "0d1100b1cc674b718b111268ebd8976f": {
      "model_module": "@jupyter-widgets/base",
      "model_module_version": "1.2.0",
      "model_name": "LayoutModel",
      "state": {
       "_model_module": "@jupyter-widgets/base",
       "_model_module_version": "1.2.0",
       "_model_name": "LayoutModel",
       "_view_count": null,
       "_view_module": "@jupyter-widgets/base",
       "_view_module_version": "1.2.0",
       "_view_name": "LayoutView",
       "align_content": null,
       "align_items": null,
       "align_self": null,
       "border": null,
       "bottom": null,
       "display": null,
       "flex": null,
       "flex_flow": null,
       "grid_area": null,
       "grid_auto_columns": null,
       "grid_auto_flow": null,
       "grid_auto_rows": null,
       "grid_column": null,
       "grid_gap": null,
       "grid_row": null,
       "grid_template_areas": null,
       "grid_template_columns": null,
       "grid_template_rows": null,
       "height": null,
       "justify_content": null,
       "justify_items": null,
       "left": null,
       "margin": null,
       "max_height": null,
       "max_width": null,
       "min_height": null,
       "min_width": null,
       "object_fit": null,
       "object_position": null,
       "order": null,
       "overflow": null,
       "overflow_x": null,
       "overflow_y": null,
       "padding": null,
       "right": null,
       "top": null,
       "visibility": null,
       "width": null
      }
     },
     "1cd439e91103422abdd3a9dd82f66560": {
      "model_module": "@jupyter-widgets/controls",
      "model_module_version": "1.5.0",
      "model_name": "FloatProgressModel",
      "state": {
       "_dom_classes": [],
       "_model_module": "@jupyter-widgets/controls",
       "_model_module_version": "1.5.0",
       "_model_name": "FloatProgressModel",
       "_view_count": null,
       "_view_module": "@jupyter-widgets/controls",
       "_view_module_version": "1.5.0",
       "_view_name": "ProgressView",
       "bar_style": "success",
       "description": "",
       "description_tooltip": null,
       "layout": "IPY_MODEL_092ccdc852d140c595f4cc1f0422c32c",
       "max": 1.0,
       "min": 0.0,
       "orientation": "horizontal",
       "style": "IPY_MODEL_68a445455e2a460391aa4e00c6b7726d",
       "value": 1.0
      }
     },
     "22feb26da4024db0b24ae371dcd2c838": {
      "model_module": "@jupyter-widgets/controls",
      "model_module_version": "1.5.0",
      "model_name": "DescriptionStyleModel",
      "state": {
       "_model_module": "@jupyter-widgets/controls",
       "_model_module_version": "1.5.0",
       "_model_name": "DescriptionStyleModel",
       "_view_count": null,
       "_view_module": "@jupyter-widgets/base",
       "_view_module_version": "1.2.0",
       "_view_name": "StyleView",
       "description_width": ""
      }
     },
     "2551c8f90f824e81b8cec88a788ebb24": {
      "model_module": "@jupyter-widgets/base",
      "model_module_version": "1.2.0",
      "model_name": "LayoutModel",
      "state": {
       "_model_module": "@jupyter-widgets/base",
       "_model_module_version": "1.2.0",
       "_model_name": "LayoutModel",
       "_view_count": null,
       "_view_module": "@jupyter-widgets/base",
       "_view_module_version": "1.2.0",
       "_view_name": "LayoutView",
       "align_content": null,
       "align_items": null,
       "align_self": null,
       "border": null,
       "bottom": null,
       "display": "inline-flex",
       "flex": null,
       "flex_flow": "row wrap",
       "grid_area": null,
       "grid_auto_columns": null,
       "grid_auto_flow": null,
       "grid_auto_rows": null,
       "grid_column": null,
       "grid_gap": null,
       "grid_row": null,
       "grid_template_areas": null,
       "grid_template_columns": null,
       "grid_template_rows": null,
       "height": null,
       "justify_content": null,
       "justify_items": null,
       "left": null,
       "margin": null,
       "max_height": null,
       "max_width": null,
       "min_height": null,
       "min_width": null,
       "object_fit": null,
       "object_position": null,
       "order": null,
       "overflow": null,
       "overflow_x": null,
       "overflow_y": null,
       "padding": null,
       "right": null,
       "top": null,
       "visibility": null,
       "width": "100%"
      }
     },
     "39b88fc18fad4affbffd5ed88d3d3789": {
      "model_module": "@jupyter-widgets/controls",
      "model_module_version": "1.5.0",
      "model_name": "HBoxModel",
      "state": {
       "_dom_classes": [],
       "_model_module": "@jupyter-widgets/controls",
       "_model_module_version": "1.5.0",
       "_model_name": "HBoxModel",
       "_view_count": null,
       "_view_module": "@jupyter-widgets/controls",
       "_view_module_version": "1.5.0",
       "_view_name": "HBoxView",
       "box_style": "",
       "children": [
        "IPY_MODEL_8c6f52d4c2394dcc82b7b903653f428c",
        "IPY_MODEL_1cd439e91103422abdd3a9dd82f66560",
        "IPY_MODEL_aa359b97078e4f7088f746fe2334aa93"
       ],
       "layout": "IPY_MODEL_2551c8f90f824e81b8cec88a788ebb24"
      }
     },
     "68a445455e2a460391aa4e00c6b7726d": {
      "model_module": "@jupyter-widgets/controls",
      "model_module_version": "1.5.0",
      "model_name": "ProgressStyleModel",
      "state": {
       "_model_module": "@jupyter-widgets/controls",
       "_model_module_version": "1.5.0",
       "_model_name": "ProgressStyleModel",
       "_view_count": null,
       "_view_module": "@jupyter-widgets/base",
       "_view_module_version": "1.2.0",
       "_view_name": "StyleView",
       "bar_color": null,
       "description_width": ""
      }
     },
     "8c6f52d4c2394dcc82b7b903653f428c": {
      "model_module": "@jupyter-widgets/controls",
      "model_module_version": "1.5.0",
      "model_name": "HTMLModel",
      "state": {
       "_dom_classes": [],
       "_model_module": "@jupyter-widgets/controls",
       "_model_module_version": "1.5.0",
       "_model_name": "HTMLModel",
       "_view_count": null,
       "_view_module": "@jupyter-widgets/controls",
       "_view_module_version": "1.5.0",
       "_view_name": "HTMLView",
       "description": "",
       "description_tooltip": null,
       "layout": "IPY_MODEL_9f6e020b42984c5b89de4a545d4a1661",
       "placeholder": "​",
       "style": "IPY_MODEL_22feb26da4024db0b24ae371dcd2c838",
       "value": "Done! Use &#x27;show&#x27; commands to display/save.   "
      }
     },
     "9f6e020b42984c5b89de4a545d4a1661": {
      "model_module": "@jupyter-widgets/base",
      "model_module_version": "1.2.0",
      "model_name": "LayoutModel",
      "state": {
       "_model_module": "@jupyter-widgets/base",
       "_model_module_version": "1.2.0",
       "_model_name": "LayoutModel",
       "_view_count": null,
       "_view_module": "@jupyter-widgets/base",
       "_view_module_version": "1.2.0",
       "_view_name": "LayoutView",
       "align_content": null,
       "align_items": null,
       "align_self": null,
       "border": null,
       "bottom": null,
       "display": null,
       "flex": null,
       "flex_flow": null,
       "grid_area": null,
       "grid_auto_columns": null,
       "grid_auto_flow": null,
       "grid_auto_rows": null,
       "grid_column": null,
       "grid_gap": null,
       "grid_row": null,
       "grid_template_areas": null,
       "grid_template_columns": null,
       "grid_template_rows": null,
       "height": null,
       "justify_content": null,
       "justify_items": null,
       "left": null,
       "margin": null,
       "max_height": null,
       "max_width": null,
       "min_height": null,
       "min_width": null,
       "object_fit": null,
       "object_position": null,
       "order": null,
       "overflow": null,
       "overflow_x": null,
       "overflow_y": null,
       "padding": null,
       "right": null,
       "top": null,
       "visibility": null,
       "width": null
      }
     },
     "aa359b97078e4f7088f746fe2334aa93": {
      "model_module": "@jupyter-widgets/controls",
      "model_module_version": "1.5.0",
      "model_name": "HTMLModel",
      "state": {
       "_dom_classes": [],
       "_model_module": "@jupyter-widgets/controls",
       "_model_module_version": "1.5.0",
       "_model_name": "HTMLModel",
       "_view_count": null,
       "_view_module": "@jupyter-widgets/controls",
       "_view_module_version": "1.5.0",
       "_view_name": "HTMLView",
       "description": "",
       "description_tooltip": null,
       "layout": "IPY_MODEL_0d1100b1cc674b718b111268ebd8976f",
       "placeholder": "​",
       "style": "IPY_MODEL_bddebed7bd2648339d3b6db93f443f41",
       "value": " [100%]   00:01 -&gt; (00:00 left)"
      }
     },
     "bddebed7bd2648339d3b6db93f443f41": {
      "model_module": "@jupyter-widgets/controls",
      "model_module_version": "1.5.0",
      "model_name": "DescriptionStyleModel",
      "state": {
       "_model_module": "@jupyter-widgets/controls",
       "_model_module_version": "1.5.0",
       "_model_name": "DescriptionStyleModel",
       "_view_count": null,
       "_view_module": "@jupyter-widgets/base",
       "_view_module_version": "1.2.0",
       "_view_name": "StyleView",
       "description_width": ""
      }
     }
    },
    "version_major": 2,
    "version_minor": 0
   }
  }
 },
 "nbformat": 4,
 "nbformat_minor": 5
}
