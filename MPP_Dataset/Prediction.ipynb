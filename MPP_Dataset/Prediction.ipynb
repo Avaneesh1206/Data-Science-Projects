{
 "cells": [
  {
   "cell_type": "code",
   "execution_count": 1,
   "metadata": {},
   "outputs": [],
   "source": [
    "import numpy as np\n",
    "import pandas as pd\n",
    "import matplotlib.pyplot as plt"
   ]
  },
  {
   "cell_type": "code",
   "execution_count": 3,
   "metadata": {},
   "outputs": [
    {
     "name": "stdout",
     "output_type": "stream",
     "text": [
      "       Store_Ratio  Basket_Ratio  Category_1  Store_Score  Category_2  \\\n",
      "0            0.407       0.00380           2      -35.865           1   \n",
      "1            0.234       0.10500           0      -19.884           1   \n",
      "2            0.668       0.72600           9       -7.512           1   \n",
      "3            0.184       0.00561           4      -34.357           1   \n",
      "4            0.231       0.13100           6      -22.842           1   \n",
      "...            ...           ...         ...          ...         ...   \n",
      "18203        0.403       0.28100           6      -10.365           0   \n",
      "18204        0.481       0.01140           4      -26.196           1   \n",
      "18205        0.168       0.00908           5      -33.966           0   \n",
      "18206        0.598       0.65800           1       -7.159           0   \n",
      "18207        0.582       0.32400           2      -10.284           1   \n",
      "\n",
      "       Store_Presence   Score_1  Score_2  Score_3  Score_4    time  popularity  \n",
      "0              0.9920  0.944000   0.0988   0.1100  113.911  189125           4  \n",
      "1              0.9440  0.900000   0.1290   0.0382   76.332  186513           4  \n",
      "2              0.0387  0.000000   0.1340   0.4530  124.075  172143           4  \n",
      "3              0.8490  0.931000   0.1110   0.0641   79.037  184000           5  \n",
      "4              0.9370  0.000000   0.1090   0.0677  109.560  186507           3  \n",
      "...               ...       ...      ...      ...      ...     ...         ...  \n",
      "18203          0.4540  0.000000   0.1060   0.1820  112.881  232880           4  \n",
      "18204          0.9910  0.967000   0.0985   0.3430   57.748  155500           4  \n",
      "18205          0.9470  0.946000   0.1250   0.3960   68.775  172500           4  \n",
      "18206          0.3890  0.000000   0.5820   0.4730  106.807  152558           4  \n",
      "18207          0.8070  0.000034   0.1500   0.2490   88.755  237293           3  \n",
      "\n",
      "[18208 rows x 12 columns]\n"
     ]
    }
   ],
   "source": [
    "df=pd.read_csv('Train.csv')\n",
    "print(df)"
   ]
  },
  {
   "cell_type": "code",
   "execution_count": 4,
   "metadata": {},
   "outputs": [
    {
     "name": "stdout",
     "output_type": "stream",
     "text": [
      "<class 'pandas.core.frame.DataFrame'>\n",
      "RangeIndex: 18208 entries, 0 to 18207\n",
      "Data columns (total 12 columns):\n",
      " #   Column          Non-Null Count  Dtype  \n",
      "---  ------          --------------  -----  \n",
      " 0   Store_Ratio     18208 non-null  float64\n",
      " 1   Basket_Ratio    18208 non-null  float64\n",
      " 2   Category_1      18208 non-null  int64  \n",
      " 3   Store_Score     18208 non-null  float64\n",
      " 4   Category_2      18208 non-null  int64  \n",
      " 5   Store_Presence  18208 non-null  float64\n",
      " 6   Score_1         18208 non-null  float64\n",
      " 7   Score_2         18208 non-null  float64\n",
      " 8   Score_3         18208 non-null  float64\n",
      " 9   Score_4         18208 non-null  float64\n",
      " 10  time            18208 non-null  int64  \n",
      " 11  popularity      18208 non-null  int64  \n",
      "dtypes: float64(8), int64(4)\n",
      "memory usage: 1.7 MB\n"
     ]
    }
   ],
   "source": [
    "df.info()"
   ]
  },
  {
   "cell_type": "code",
   "execution_count": 5,
   "metadata": {},
   "outputs": [
    {
     "name": "stdout",
     "output_type": "stream",
     "text": [
      "       Store_Ratio  Basket_Ratio  Category_1  Store_Score  Category_2  \\\n",
      "0            0.407       0.00380           2      -35.865           1   \n",
      "1            0.234       0.10500           0      -19.884           1   \n",
      "2            0.668       0.72600           9       -7.512           1   \n",
      "3            0.184       0.00561           4      -34.357           1   \n",
      "4            0.231       0.13100           6      -22.842           1   \n",
      "...            ...           ...         ...          ...         ...   \n",
      "18203        0.403       0.28100           6      -10.365           0   \n",
      "18204        0.481       0.01140           4      -26.196           1   \n",
      "18205        0.168       0.00908           5      -33.966           0   \n",
      "18206        0.598       0.65800           1       -7.159           0   \n",
      "18207        0.582       0.32400           2      -10.284           1   \n",
      "\n",
      "       Store_Presence   Score_1  Score_2  Score_3  Score_4    time  \n",
      "0              0.9920  0.944000   0.0988   0.1100  113.911  189125  \n",
      "1              0.9440  0.900000   0.1290   0.0382   76.332  186513  \n",
      "2              0.0387  0.000000   0.1340   0.4530  124.075  172143  \n",
      "3              0.8490  0.931000   0.1110   0.0641   79.037  184000  \n",
      "4              0.9370  0.000000   0.1090   0.0677  109.560  186507  \n",
      "...               ...       ...      ...      ...      ...     ...  \n",
      "18203          0.4540  0.000000   0.1060   0.1820  112.881  232880  \n",
      "18204          0.9910  0.967000   0.0985   0.3430   57.748  155500  \n",
      "18205          0.9470  0.946000   0.1250   0.3960   68.775  172500  \n",
      "18206          0.3890  0.000000   0.5820   0.4730  106.807  152558  \n",
      "18207          0.8070  0.000034   0.1500   0.2490   88.755  237293  \n",
      "\n",
      "[18208 rows x 11 columns]\n",
      "0        4\n",
      "1        4\n",
      "2        4\n",
      "3        5\n",
      "4        3\n",
      "        ..\n",
      "18203    4\n",
      "18204    4\n",
      "18205    4\n",
      "18206    4\n",
      "18207    3\n",
      "Name: popularity, Length: 18208, dtype: int64\n"
     ]
    }
   ],
   "source": [
    "x=df.iloc[:,:-1]\n",
    "y=df['popularity']\n",
    "print(x)\n",
    "print(y)"
   ]
  },
  {
   "cell_type": "code",
   "execution_count": 6,
   "metadata": {},
   "outputs": [],
   "source": [
    "from sklearn.model_selection import train_test_split\n",
    "x_train,x_test,y_train,y_test=train_test_split(x,y,test_size=0.2,random_state=0)\n"
   ]
  },
  {
   "cell_type": "code",
   "execution_count": 8,
   "metadata": {},
   "outputs": [],
   "source": [
    "from sklearn.ensemble import BaggingClassifier\n",
    "from sklearn.neighbors import KNeighborsClassifier\n",
    "bag_knn = BaggingClassifier(KNeighborsClassifier(n_neighbors=5),\n",
    "                            n_estimators=10, max_samples=0.5,\n",
    "                            bootstrap=True, random_state=3,oob_score=True) "
   ]
  },
  {
   "cell_type": "code",
   "execution_count": 11,
   "metadata": {},
   "outputs": [
    {
     "name": "stderr",
     "output_type": "stream",
     "text": [
      "C:\\Users\\Avaneesh\\anaconda3\\lib\\site-packages\\sklearn\\ensemble\\_bagging.py:638: UserWarning: Some inputs do not have OOB scores. This probably means too few estimators were used to compute any reliable oob estimates.\n",
      "  warn(\"Some inputs do not have OOB scores. \"\n",
      "C:\\Users\\Avaneesh\\anaconda3\\lib\\site-packages\\sklearn\\ensemble\\_bagging.py:642: RuntimeWarning: invalid value encountered in true_divide\n",
      "  oob_decision_function = (predictions /\n"
     ]
    },
    {
     "data": {
      "text/plain": [
       "0.8250961010433827"
      ]
     },
     "execution_count": 11,
     "metadata": {},
     "output_type": "execute_result"
    }
   ],
   "source": [
    "bag_knn.fit(x_train, y_train)\n",
    "bag_knn.score(x_test, y_test)"
   ]
  },
  {
   "cell_type": "code",
   "execution_count": 43,
   "metadata": {},
   "outputs": [
    {
     "data": {
      "text/plain": [
       "0.8684788577704557"
      ]
     },
     "execution_count": 43,
     "metadata": {},
     "output_type": "execute_result"
    }
   ],
   "source": [
    "from sklearn.ensemble import RandomForestClassifier\n",
    "rand_clf = RandomForestClassifier(random_state=6,max_depth=19)\n",
    "rand_clf.fit(x_train,y_train)\n",
    "rand_clf.score(x_test,y_test)"
   ]
  },
  {
   "cell_type": "code",
   "execution_count": 28,
   "metadata": {},
   "outputs": [],
   "source": [
    "grid_param = {\n",
    "    'criterion': ['gini', 'entropy'],\n",
    "    'max_depth' : range(2,20,1),\n",
    "    'min_samples_leaf' : range(1,10,1),\n",
    "    #'min_samples_split': range(2,10,1),\n",
    "    'max_features' : ['auto','log2']\n",
    "}"
   ]
  },
  {
   "cell_type": "code",
   "execution_count": 29,
   "metadata": {},
   "outputs": [],
   "source": [
    "grid_search = GridSearchCV(estimator=rand_clf,param_grid=grid_param,cv=5,n_jobs =-1,verbose = 3)"
   ]
  },
  {
   "cell_type": "code",
   "execution_count": 30,
   "metadata": {},
   "outputs": [
    {
     "name": "stdout",
     "output_type": "stream",
     "text": [
      "Fitting 5 folds for each of 648 candidates, totalling 3240 fits\n"
     ]
    },
    {
     "name": "stderr",
     "output_type": "stream",
     "text": [
      "[Parallel(n_jobs=-1)]: Using backend LokyBackend with 4 concurrent workers.\n",
      "[Parallel(n_jobs=-1)]: Done  24 tasks      | elapsed:   10.7s\n",
      "[Parallel(n_jobs=-1)]: Done 120 tasks      | elapsed:   44.2s\n",
      "[Parallel(n_jobs=-1)]: Done 280 tasks      | elapsed:  1.9min\n",
      "[Parallel(n_jobs=-1)]: Done 504 tasks      | elapsed:  3.8min\n",
      "[Parallel(n_jobs=-1)]: Done 792 tasks      | elapsed:  7.0min\n",
      "[Parallel(n_jobs=-1)]: Done 1144 tasks      | elapsed: 12.0min\n",
      "[Parallel(n_jobs=-1)]: Done 1560 tasks      | elapsed: 19.3min\n",
      "[Parallel(n_jobs=-1)]: Done 2040 tasks      | elapsed: 25.3min\n",
      "[Parallel(n_jobs=-1)]: Done 2584 tasks      | elapsed: 37.6min\n",
      "[Parallel(n_jobs=-1)]: Done 3192 tasks      | elapsed: 55.1min\n",
      "[Parallel(n_jobs=-1)]: Done 3240 out of 3240 | elapsed: 56.5min finished\n"
     ]
    },
    {
     "data": {
      "text/plain": [
       "GridSearchCV(cv=5, estimator=RandomForestClassifier(random_state=6), n_jobs=-1,\n",
       "             param_grid={'criterion': ['gini', 'entropy'],\n",
       "                         'max_depth': range(2, 20),\n",
       "                         'max_features': ['auto', 'log2'],\n",
       "                         'min_samples_leaf': range(1, 10)},\n",
       "             verbose=3)"
      ]
     },
     "execution_count": 30,
     "metadata": {},
     "output_type": "execute_result"
    }
   ],
   "source": [
    "grid_search.fit(x_train,y_train)"
   ]
  },
  {
   "cell_type": "code",
   "execution_count": 31,
   "metadata": {},
   "outputs": [
    {
     "data": {
      "text/plain": [
       "{'criterion': 'entropy',\n",
       " 'max_depth': 19,\n",
       " 'max_features': 'auto',\n",
       " 'min_samples_leaf': 1}"
      ]
     },
     "execution_count": 31,
     "metadata": {},
     "output_type": "execute_result"
    }
   ],
   "source": [
    "grid_search.best_params_"
   ]
  },
  {
   "cell_type": "code",
   "execution_count": 46,
   "metadata": {},
   "outputs": [],
   "source": [
    "rand_clf = RandomForestClassifier(random_state=6,max_depth=19,min_samples_leaf=1)\n",
    "rand_clf.fit(x_train,y_train)\n",
    "rand_clf.score(x_test,y_test)\n",
    "y_pred=rand_clf.predict(x_test)"
   ]
  },
  {
   "cell_type": "code",
   "execution_count": 50,
   "metadata": {},
   "outputs": [],
   "source": [
    "y=pd.read_csv('Test.csv')\n"
   ]
  },
  {
   "cell_type": "code",
   "execution_count": 53,
   "metadata": {},
   "outputs": [
    {
     "name": "stdout",
     "output_type": "stream",
     "text": [
      "[4 4 4 ... 4 4 4]\n"
     ]
    }
   ],
   "source": [
    "y_pred=rand_clf.predict(y)\n",
    "print(y_pred)"
   ]
  },
  {
   "cell_type": "code",
   "execution_count": 54,
   "metadata": {},
   "outputs": [
    {
     "name": "stdout",
     "output_type": "stream",
     "text": [
      "       0  1  3  4  5\n",
      "0      0  0  0  1  0\n",
      "1      0  0  0  1  0\n",
      "2      0  0  0  1  0\n",
      "3      0  0  0  1  0\n",
      "4      0  0  0  1  0\n",
      "...   .. .. .. .. ..\n",
      "12135  0  0  0  1  0\n",
      "12136  0  0  0  1  0\n",
      "12137  0  0  0  1  0\n",
      "12138  0  0  0  1  0\n",
      "12139  0  0  0  1  0\n",
      "\n",
      "[12140 rows x 5 columns]\n"
     ]
    }
   ],
   "source": [
    "a=pd.get_dummies(y_pred)\n",
    "print(a)"
   ]
  },
  {
   "cell_type": "code",
   "execution_count": 58,
   "metadata": {},
   "outputs": [],
   "source": [
    "f=pd.DataFrame(a)#We are taking the value of y_pred in a dataframe\n",
    "#print(f)\n",
    "f.to_excel('Sample_Submission.xlsx')#"
   ]
  },
  {
   "cell_type": "code",
   "execution_count": null,
   "metadata": {},
   "outputs": [],
   "source": []
  }
 ],
 "metadata": {
  "kernelspec": {
   "display_name": "Python 3",
   "language": "python",
   "name": "python3"
  },
  "language_info": {
   "codemirror_mode": {
    "name": "ipython",
    "version": 3
   },
   "file_extension": ".py",
   "mimetype": "text/x-python",
   "name": "python",
   "nbconvert_exporter": "python",
   "pygments_lexer": "ipython3",
   "version": "3.8.3"
  }
 },
 "nbformat": 4,
 "nbformat_minor": 4
}
